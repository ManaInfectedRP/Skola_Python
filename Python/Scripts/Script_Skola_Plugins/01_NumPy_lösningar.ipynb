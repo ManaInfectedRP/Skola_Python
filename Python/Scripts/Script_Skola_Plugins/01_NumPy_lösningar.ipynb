{
 "cells": [
  {
   "cell_type": "markdown",
   "id": "dacf74e6",
   "metadata": {},
   "source": [
    "# NumPy"
   ]
  },
  {
   "cell_type": "markdown",
   "id": "cce0c19a",
   "metadata": {},
   "source": [
    "Read the links: https://numpy.org/doc/stable/user/quickstart.html  and https://numpy.org/doc/stable/user/basics.broadcasting.html  before solving the exercises. "
   ]
  },
  {
   "cell_type": "code",
   "execution_count": 3,
   "id": "1f79e4a6",
   "metadata": {},
   "outputs": [],
   "source": [
    "import numpy as np"
   ]
  },
  {
   "cell_type": "markdown",
   "id": "7dae6889",
   "metadata": {},
   "source": [
    "### Print out the dimension (number of axes), shape, size and the datatype of the matrix A."
   ]
  },
  {
   "cell_type": "code",
   "execution_count": 5,
   "id": "7b3678cd",
   "metadata": {},
   "outputs": [],
   "source": [
    "A = np.arange(1, 16).reshape(3,5)"
   ]
  },
  {
   "cell_type": "code",
   "execution_count": 6,
   "id": "9f497999",
   "metadata": {},
   "outputs": [
    {
     "name": "stdout",
     "output_type": "stream",
     "text": [
      "2\n",
      "(3, 5)\n",
      "15\n",
      "int32\n"
     ]
    }
   ],
   "source": [
    "print(A.ndim)\n",
    "print(A.shape)\n",
    "print(A.size)\n",
    "print(A.dtype)"
   ]
  },
  {
   "cell_type": "markdown",
   "id": "e56d2a96",
   "metadata": {},
   "source": [
    "### Do the following computations on the matrices B and C: \n",
    "* Elementwise subtraction. \n",
    "* Elementwise multiplication. \n",
    "* Matrix multiplication (by default you should use the @ operator)."
   ]
  },
  {
   "cell_type": "code",
   "execution_count": 8,
   "id": "a7053fbb",
   "metadata": {},
   "outputs": [
    {
     "name": "stdout",
     "output_type": "stream",
     "text": [
      "[[1 2 3]\n",
      " [4 5 6]\n",
      " [7 8 9]]\n",
      "\n",
      "[[2. 2. 2.]\n",
      " [2. 2. 2.]\n",
      " [2. 2. 2.]]\n"
     ]
    }
   ],
   "source": [
    "B = np.arange(1, 10).reshape(3, 3)\n",
    "C = np.ones((3, 3))*2\n",
    "\n",
    "print(B)\n",
    "print()\n",
    "print(C)"
   ]
  },
  {
   "cell_type": "code",
   "execution_count": 9,
   "id": "b7537f91",
   "metadata": {},
   "outputs": [
    {
     "name": "stdout",
     "output_type": "stream",
     "text": [
      "[[-1.  0.  1.]\n",
      " [ 2.  3.  4.]\n",
      " [ 5.  6.  7.]]\n",
      "\n",
      "[[ 2.  4.  6.]\n",
      " [ 8. 10. 12.]\n",
      " [14. 16. 18.]]\n",
      "\n",
      "[[12. 12. 12.]\n",
      " [30. 30. 30.]\n",
      " [48. 48. 48.]]\n"
     ]
    }
   ],
   "source": [
    "print(B - C)\n",
    "print()\n",
    "print(B * C)\n",
    "print()\n",
    "print(B @ C)"
   ]
  },
  {
   "cell_type": "markdown",
   "id": "96030d53",
   "metadata": {},
   "source": [
    "### Do the following calculations on the matrix:\n",
    "\n",
    "* Calculate the minimum value in the whole matrix. \n",
    "* Calculcate the minimum value in each row. \n",
    "* Calculcate the minimum value in each column. \n",
    "\n",
    "\n",
    "* Find the index value for the minimum value in the whole matrix (hint: use np.argmin).\n",
    "* Find the index value for the minimum value in each row (hint: use np.argmin).\n",
    "\n",
    "\n",
    "* Calculate the sum for all elements.\n",
    "* Calculate the mean for each column. \n",
    "* Calculate the median for each column. "
   ]
  },
  {
   "cell_type": "code",
   "execution_count": 11,
   "id": "f8a9166b",
   "metadata": {},
   "outputs": [
    {
     "name": "stdout",
     "output_type": "stream",
     "text": [
      "[[1 2 3]\n",
      " [4 5 6]\n",
      " [7 8 9]]\n"
     ]
    }
   ],
   "source": [
    "B = np.arange(1, 10).reshape(3, 3)\n",
    "print(B)"
   ]
  },
  {
   "cell_type": "code",
   "execution_count": 12,
   "id": "2822ff25",
   "metadata": {},
   "outputs": [
    {
     "name": "stdout",
     "output_type": "stream",
     "text": [
      "1\n",
      "[1 2 3]\n",
      "[1 4 7]\n",
      "\n",
      "0\n",
      "[0 0 0]\n",
      "\n",
      "45\n",
      "[2. 5. 8.]\n",
      "[2. 5. 8.]\n"
     ]
    }
   ],
   "source": [
    "print(np.min(B))\n",
    "print(np.min(B, axis = 0))  # Taking the first column row-wise, then the second column and so on. \n",
    "print(np.min(B, axis = 1))  # Taking the first row column-wise, then the second row and so on.  \n",
    "print() \n",
    "\n",
    "print(np.argmin(B))  # The output will be the index of the element in the form of a flattened array.\n",
    "print(np.argmin(B, axis = 0))\n",
    "print()\n",
    "\n",
    "print(np.sum(B))\n",
    "print(np.mean(B, axis = 1))\n",
    "print(np.median(B, axis = 1))"
   ]
  },
  {
   "cell_type": "markdown",
   "id": "541eb7ba",
   "metadata": {},
   "source": [
    "### What does it mean when you provide fewer indices than axes when slicing? See example below."
   ]
  },
  {
   "cell_type": "code",
   "execution_count": 14,
   "id": "9c8abf56",
   "metadata": {},
   "outputs": [
    {
     "name": "stdout",
     "output_type": "stream",
     "text": [
      "[[ 1  2  3  4  5]\n",
      " [ 6  7  8  9 10]\n",
      " [11 12 13 14 15]]\n"
     ]
    }
   ],
   "source": [
    "print(A)"
   ]
  },
  {
   "cell_type": "code",
   "execution_count": 15,
   "id": "69415f7b",
   "metadata": {},
   "outputs": [
    {
     "data": {
      "text/plain": [
       "array([ 6,  7,  8,  9, 10])"
      ]
     },
     "execution_count": 15,
     "metadata": {},
     "output_type": "execute_result"
    }
   ],
   "source": [
    "A[1]"
   ]
  },
  {
   "cell_type": "markdown",
   "id": "6c53541b",
   "metadata": {},
   "source": [
    "When fewer indices are provided than the number of axes, the missing indices are considered complete slices."
   ]
  },
  {
   "cell_type": "markdown",
   "id": "6652d0c9",
   "metadata": {},
   "source": [
    "### Iterating over multidimensional arrays is done with respect to the first axis, so in the example below we iterate trough the rows. If you would like to iterate through the array *elementwise*, how would you do that?"
   ]
  },
  {
   "cell_type": "code",
   "execution_count": 18,
   "id": "9459864f",
   "metadata": {},
   "outputs": [
    {
     "data": {
      "text/plain": [
       "array([[ 1,  2,  3,  4,  5],\n",
       "       [ 6,  7,  8,  9, 10],\n",
       "       [11, 12, 13, 14, 15]])"
      ]
     },
     "execution_count": 18,
     "metadata": {},
     "output_type": "execute_result"
    }
   ],
   "source": [
    "A"
   ]
  },
  {
   "cell_type": "code",
   "execution_count": 19,
   "id": "a671bb5a",
   "metadata": {},
   "outputs": [
    {
     "name": "stdout",
     "output_type": "stream",
     "text": [
      "[1 2 3 4 5]\n",
      "[ 6  7  8  9 10]\n",
      "[11 12 13 14 15]\n"
     ]
    }
   ],
   "source": [
    "for i in A:\n",
    "    print(i)"
   ]
  },
  {
   "cell_type": "code",
   "execution_count": 20,
   "id": "4126703c",
   "metadata": {},
   "outputs": [
    {
     "name": "stdout",
     "output_type": "stream",
     "text": [
      "1\n",
      "2\n",
      "3\n",
      "4\n",
      "5\n",
      "6\n",
      "7\n",
      "8\n",
      "9\n",
      "10\n",
      "11\n",
      "12\n",
      "13\n",
      "14\n",
      "15\n"
     ]
    }
   ],
   "source": [
    "for i in A.ravel():  # Could use flatten() aswell. \n",
    "    print(i)"
   ]
  },
  {
   "cell_type": "markdown",
   "id": "608a2583",
   "metadata": {},
   "source": [
    "### Explain what the code below does. More specifically, b has three axes - what does this mean? "
   ]
  },
  {
   "cell_type": "markdown",
   "id": "36259d6c",
   "metadata": {},
   "source": [
    "Two matrices stored where each has 3 rows and \"suitable\" number of columns."
   ]
  },
  {
   "cell_type": "code",
   "execution_count": 23,
   "id": "f8f9b26f",
   "metadata": {},
   "outputs": [
    {
     "name": "stdout",
     "output_type": "stream",
     "text": [
      "[ 0  1  2  3  4  5  6  7  8  9 10 11 12 13 14 15 16 17 18 19 20 21 22 23\n",
      " 24 25 26 27 28 29]\n",
      "\n",
      "[[[ 0  1  2  3  4]\n",
      "  [ 5  6  7  8  9]\n",
      "  [10 11 12 13 14]]\n",
      "\n",
      " [[15 16 17 18 19]\n",
      "  [20 21 22 23 24]\n",
      "  [25 26 27 28 29]]]\n"
     ]
    }
   ],
   "source": [
    "a = np.arange(30)\n",
    "b = a.reshape((2, 3, -1))\n",
    "print(a)\n",
    "print()\n",
    "\n",
    "print(b)"
   ]
  },
  {
   "cell_type": "markdown",
   "id": "ab5933d5",
   "metadata": {},
   "source": [
    "### Broadcasting\n",
    "**Read the following link about broadcasting: https://numpy.org/doc/stable/user/basics.broadcasting.html#basics-broadcasting**"
   ]
  },
  {
   "cell_type": "markdown",
   "id": "039805ba",
   "metadata": {},
   "source": [
    "# Remark on Broadcasting when doing Linear Algebra (Vector and Matrix Algebra) calculations in Python. "
   ]
  },
  {
   "cell_type": "markdown",
   "id": "c4bcc147",
   "metadata": {},
   "source": [
    "### From the mathematical rules of matrix addition, the operation below (m1 + m2) does not make sense. The reason is that matrix addition requires two matrices of the same size. In Python however, it works due to broadcasting rules in NumPy. So you must be careful when doing Linear Algebra calculations in Python since they do not follow the \"mathematical rules\". This can however easily be handled by doing some simple programming, for example validating that two matrices have the same shape is easy if you for instance want to add two matrices. "
   ]
  },
  {
   "cell_type": "code",
   "execution_count": 27,
   "id": "1fd46778",
   "metadata": {},
   "outputs": [
    {
     "name": "stdout",
     "output_type": "stream",
     "text": [
      "[[2 3]\n",
      " [4 5]]\n",
      "(2, 2)\n",
      "(2,)\n"
     ]
    }
   ],
   "source": [
    "m1 = np.array([[1, 2], [3, 4]])\n",
    "m2 = np.array([1, 1])\n",
    "print(m1 + m2)\n",
    "\n",
    "print(m1.shape)\n",
    "print(m2.shape)\n",
    "\n"
   ]
  },
  {
   "cell_type": "markdown",
   "id": "047d6576",
   "metadata": {},
   "source": [
    "### The example below would also not be allowed if following the \"mathematical rules\" in Linear Algebra. But it works due to broadcasting in NumPy. "
   ]
  },
  {
   "cell_type": "code",
   "execution_count": 29,
   "id": "5e6ef2e4",
   "metadata": {},
   "outputs": [
    {
     "name": "stdout",
     "output_type": "stream",
     "text": [
      "[2 3 4]\n"
     ]
    }
   ],
   "source": [
    "v1 = np.array([1, 2, 3])\n",
    "print(v1 + 1)"
   ]
  },
  {
   "cell_type": "code",
   "execution_count": 30,
   "id": "e2cbae26",
   "metadata": {},
   "outputs": [
    {
     "name": "stdout",
     "output_type": "stream",
     "text": [
      "[[1 2]\n",
      " [3 4]]\n",
      "[2 2]\n",
      "\n",
      "[[3 4]\n",
      " [5 6]]\n"
     ]
    }
   ],
   "source": [
    "A = np.arange(1, 5).reshape(2,2)\n",
    "print(A)\n",
    "\n",
    "b = np.array([2, 2])\n",
    "print(b)\n",
    "\n",
    "print()\n",
    "\n",
    "print(A+b)"
   ]
  },
  {
   "cell_type": "code",
   "execution_count": null,
   "id": "a3e2e842-ee59-4e16-af33-f176bd21dcd6",
   "metadata": {},
   "outputs": [],
   "source": []
  },
  {
   "cell_type": "markdown",
   "id": "722fd5cd",
   "metadata": {},
   "source": [
    "# Vector- and matrix algebra Exercises"
   ]
  },
  {
   "cell_type": "markdown",
   "id": "45673bd0-a083-498e-baab-15eeb51e3df8",
   "metadata": {},
   "source": [
    "**Now you are going to create a function that can be reused every time you add or multiply matrices. The function is created so that we do the addition and multiplication according to the rules of vector- and matrix algebra.**\n",
    "\n",
    "**Create a function \"add_mult_matrices\" that takes two matrices as input arguments (validate that the input are of the type numpy.ndarray by using the isinstance function), a third argument that is either 'add' or 'multiply' that specifies if you want to add or multiply the matrices (validate that the third argument is either 'add' or 'multiply'). When doing matrix addition, validate that the matrices have the same size. When doing matrix multiplication, validate that the sizes conform (i.e. number of columns in the first matrix is equal to the number of rows in the second matrix).**"
   ]
  },
  {
   "cell_type": "code",
   "execution_count": 33,
   "id": "1c0c2836",
   "metadata": {},
   "outputs": [],
   "source": [
    "def add_mult_matrices(A, B, add_or_multiply):\n",
    "    if not (isinstance(A, np.ndarray) and isinstance(B, np.ndarray)):\n",
    "        raise Exception('Please provide two matrices.')\n",
    "    \n",
    "    if add_or_multiply == 'add':\n",
    "        if not A.shape == B.shape:\n",
    "            raise ValueError('Same shape required for matrix addition.')\n",
    "        else: \n",
    "            return A + B\n",
    "    elif add_or_multiply == 'multiply':\n",
    "        if not A.shape[1] == B.shape[0]:\n",
    "            raise ValueError('Columns and rows must be the shame length in matrix multiplicatio')\n",
    "        else:\n",
    "            return A @ B\n",
    "    else:\n",
    "        raise Exception('the add_or_multiply argument must be \"add\" or \"multiply\". ')"
   ]
  },
  {
   "cell_type": "markdown",
   "id": "1aefba76-2908-4098-b791-cab0896a65bf",
   "metadata": {},
   "source": [
    "### Solve all the exercises in chapter 10.1 in the book \"Matematik för yrkeshögskolan\" by using Python. Note, the function you created above can be used. "
   ]
  },
  {
   "cell_type": "code",
   "execution_count": 35,
   "id": "b9dfdab2-e15a-4748-a60d-531391b7f09c",
   "metadata": {},
   "outputs": [
    {
     "name": "stdout",
     "output_type": "stream",
     "text": [
      "a) Dimension: 1 x 2\n",
      "b) 5x = [20 15]\n",
      "c) 3x = [12  9]\n",
      "d) 5x + 3x = [32 24]\n",
      "e) 8x = [32 24]\n",
      "f) 4x - x = [12  9]\n",
      "g) x^T =\n",
      "[[4]\n",
      " [3]]\n",
      "g) New dimension: 2 x 1\n",
      "i) ||x|| = 5.0\n",
      "i) ||x|| = 5.0\n",
      "i) ||x|| = 5.0\n"
     ]
    }
   ],
   "source": [
    "# 10.1.\n",
    "x = np.array([4,3])\n",
    "# a)\n",
    "print(f'a) Dimension: 1 x {x.shape[0]}')\n",
    "# b)\n",
    "print(f'b) 5x = {5*x}')\n",
    "# c)\n",
    "print(f'c) 3x = {3*x}')\n",
    "# d)\n",
    "print(f\"d) 5x + 3x = {add_mult_matrices(5*x, 3*x, 'add')}\")\n",
    "# e)\n",
    "print(f'e) 8x = {8 * x}')\n",
    "# f)\n",
    "print(f\"f) 4x - x = {add_mult_matrices(4*x, - x, 'add' )}\")\n",
    "# g)\n",
    "y = x.reshape((2,1))\n",
    "print(f'g) x^T =\\n{y}')\n",
    "print(f'g) New dimension: {y.shape[0]} x {y.shape[1]}')\n",
    "# h)\n",
    "# print(f\"h) x + x^T = {add_mult_matrices(x, y, 'add')}\")\n",
    "# i) Solve it in a few ways here.\n",
    "print(f'i) ||x|| = {np.linalg.norm(x)}')\n",
    "print(f\"i) ||x|| = {np.sqrt(add_mult_matrices(x.reshape(1,2),x.reshape(2,1),'multiply').flat[0])}\")\n",
    "print(f'i) ||x|| = {np.sqrt(np.sum(x**2))}')"
   ]
  },
  {
   "cell_type": "code",
   "execution_count": 36,
   "id": "e7c41f23-74fc-4397-824b-9f74003ddca7",
   "metadata": {},
   "outputs": [
    {
     "name": "stdout",
     "output_type": "stream",
     "text": [
      "a) Dimension: 4 x 1\n",
      "b) 2v =\n",
      "[[ 6]\n",
      " [14]\n",
      " [ 0]\n",
      " [22]]\n",
      "c) 5v + 2v =\n",
      "[[21]\n",
      " [49]\n",
      " [ 0]\n",
      " [77]]\n",
      "d) 4v - 2v =\n",
      "[[ 6]\n",
      " [14]\n",
      " [ 0]\n",
      " [22]]\n",
      "e) v^T = [ 3  7  0 11]\n",
      "Dimension: 1 x 4\n",
      "f) ||v|| = 13.379088160259652\n",
      "f) ||v|| = 13.379088160259652\n",
      "f) ||v| = 13.379088160259652\n"
     ]
    }
   ],
   "source": [
    "# 10.1.2\n",
    "v=np.array([[3],[7],[0],[11]])\n",
    "# a)\n",
    "print(f'a) Dimension: {v.shape[0]} x {v.shape[1]}')\n",
    "# b)\n",
    "print(f'b) 2v =\\n{2*v}')\n",
    "# c)\n",
    "print(f\"c) 5v + 2v =\\n{add_mult_matrices(5*v,2*v,'add')}\")\n",
    "# d)\n",
    "print(f\"d) 4v - 2v =\\n{add_mult_matrices(4*v,-2*v,'add')}\")\n",
    "# e)\n",
    "print(f'e) v^T = {v.T.reshape(-1)}')\n",
    "print(f'Dimension: {v.T.shape[0]} x {v.T.shape[1]}')\n",
    "# f) Solve it in a few ways here\n",
    "print(f'f) ||v|| = {np.linalg.norm(v)}')\n",
    "print(f\"f) ||v|| = {np.sqrt(add_mult_matrices(v.reshape(1,4),v,'multiply').flat[0])}\")\n",
    "print(f'f) ||v| = {np.sqrt(np.sum(v**2))}')"
   ]
  },
  {
   "cell_type": "code",
   "execution_count": 37,
   "id": "68ce3f0e-90b5-48d4-8647-34ff7489627b",
   "metadata": {},
   "outputs": [
    {
     "name": "stdout",
     "output_type": "stream",
     "text": [
      "a) ||v1|| = 7.14142842854285\n",
      "a) ||v1|| = 7.14142842854285\n",
      "a) ||v1|| = 7.14142842854285\n",
      "b) ||v1 - v2|| = 4.47213595499958\n",
      "b) ||v1 - v2|| = 4.47213595499958\n",
      "b) ||v1 - v2|| = 4.47213595499958\n"
     ]
    }
   ],
   "source": [
    "# 10.1.3\n",
    "v1=np.array([4,3,1,5])\n",
    "v2=np.array([2,3,1,1])\n",
    "\n",
    "#a)\n",
    "print(f'a) ||v1|| = {np.linalg.norm(v1)}')\n",
    "print(f\"a) ||v1|| = {np.sqrt(add_mult_matrices(v1.reshape(1,4),v1.reshape(4,1),'multiply').flat[0])}\")\n",
    "print(f'a) ||v1|| = {np.sqrt(np.sum(v1**2))}')\n",
    "# b)\n",
    "print(f'b) ||v1 - v2|| = {np.linalg.norm(v1 - v2)}')\n",
    "print(f\"b) ||v1 - v2|| = {np.sqrt(add_mult_matrices((v1-v2).reshape(1,4),(v1-v2).reshape(4,1),'multiply').flat[0])}\")\n",
    "print(f'b) ||v1 - v2|| = {np.sqrt(np.sum((v1-v2)**2))}')"
   ]
  },
  {
   "cell_type": "markdown",
   "id": "7f4d5e3e-7b05-4e84-9f4a-8de49d4fa607",
   "metadata": {},
   "source": [
    "### Solve all the exercises, except 10.2.4, in chapter 10.2 in the book \"Matematik för yrkeshögskolan\" by using Python. Note, the function you created above can be used. "
   ]
  },
  {
   "cell_type": "code",
   "execution_count": 39,
   "id": "9982d7a8-980b-48a6-bc60-21541d077894",
   "metadata": {},
   "outputs": [
    {
     "name": "stdout",
     "output_type": "stream",
     "text": [
      "a) 2A =\n",
      "[[ 4  2 -2]\n",
      " [ 2 -2  2]]\n",
      "\n",
      "b) B-2A =\n",
      "[[ 0 -4  3]\n",
      " [ 0 -2 -4]]\n",
      "\n",
      "d) 2D - 3C =\n",
      "[[3 2]\n",
      " [2 3]]\n",
      "\n",
      "e) D^T+2D =\n",
      "[[ 9 12]\n",
      " [12  9]]\n",
      "\n",
      "f) 2C^T - 2D^T =\n",
      "[[-4 -4]\n",
      " [-4 -4]]\n",
      "\n",
      "i) CD =\n",
      "[[11 10]\n",
      " [10 11]]\n",
      "\n",
      "j) CB =\n",
      "[[  8 -10  -3]\n",
      " [ 10  -8   0]]\n",
      "\n",
      "k) CI =\n",
      "[[1 2]\n",
      " [2 1]]\n",
      "\n",
      "l) AB^T =\n",
      "[[5 2]\n",
      " [7 4]]\n"
     ]
    }
   ],
   "source": [
    "# 10.2.1\n",
    "A=np.array([[2,1,-1],[1,-1,1]])\n",
    "B=np.array([[4,-2,1],[2,-4,-2]])\n",
    "C=np.array([[1,2],[2,1]])\n",
    "D=np.array([[3,4],[4,3]])\n",
    "E=np.array([[1],[2]])\n",
    "I=np.array([[1,0],[0,1]])\n",
    "\n",
    "# a)\n",
    "print(f'a) 2A =\\n{2*A}\\n')\n",
    "# b)\n",
    "print(f\"b) B-2A =\\n{add_mult_matrices(B, -2*A, 'add')}\\n\")\n",
    "# c)\n",
    "# print(f\"c) 3C-2E =\\n{add_mult_matrices(3*C, -2*E, 'add')}\\n\")\n",
    "# d)\n",
    "print(f\"d) 2D - 3C =\\n{add_mult_matrices(2*D, -3*C, 'add')}\\n\")\n",
    "# e)\n",
    "print(f\"e) D^T+2D =\\n{add_mult_matrices(D.T, 2*D, 'add')}\\n\")\n",
    "# f)\n",
    "print(f\"f) 2C^T - 2D^T =\\n{add_mult_matrices(2*C.T,-2*D.T,'add')}\\n\")\n",
    "# g)\n",
    "# print(f\"g) A^T - B =\\n{add_mult_matrices(A.T, -B, 'add')}\\n\")\n",
    "# h)\n",
    "# print(f\"h) AC = \\n{add_mult_matrices(A,C,'multiply')}\\n\")\n",
    "# i)\n",
    "print(f\"i) CD =\\n{add_mult_matrices(C,D,'multiply')}\\n\")\n",
    "# j)\n",
    "print(f\"j) CB =\\n{add_mult_matrices(C,B,'multiply')}\\n\")\n",
    "# k)\n",
    "print(f\"k) CI =\\n{add_mult_matrices(C,I,'multiply')}\\n\")\n",
    "# l)\n",
    "print(f\"l) AB^T =\\n{add_mult_matrices(A,B.T,'multiply')}\")"
   ]
  },
  {
   "cell_type": "code",
   "execution_count": 40,
   "id": "2e4c32cb-e206-4676-8a0c-dd1027c196a3",
   "metadata": {},
   "outputs": [
    {
     "name": "stdout",
     "output_type": "stream",
     "text": [
      "AA^T =\n",
      "[[29 26]\n",
      " [26 42]]\n"
     ]
    }
   ],
   "source": [
    "# 10.2.2\n",
    "A=np.array([[2,3,4],[5,4,1]])\n",
    "print(f\"AA^T =\\n{add_mult_matrices(A,A.T,'multiply')}\")"
   ]
  },
  {
   "cell_type": "code",
   "execution_count": 41,
   "id": "56bdfd83-9dce-4eed-a8b1-6cce062ab0c2",
   "metadata": {},
   "outputs": [
    {
     "name": "stdout",
     "output_type": "stream",
     "text": [
      "AB = AC: True\n",
      "B = C: False\n"
     ]
    }
   ],
   "source": [
    "# 10.2.3 \n",
    "\n",
    "A, B, C=np.array([[1,2],[2,4]]), np.array([[2,1],[1,3]]), np.array([[4,3],[0,2]])\n",
    "print(f\"AB = AC: {bool(np.prod(add_mult_matrices(A,B,'multiply').__eq__(add_mult_matrices(A,C,'multiply'))))}\")\n",
    "print(f\"B = C: {bool(np.prod(B.__eq__(C)))}\")"
   ]
  },
  {
   "cell_type": "code",
   "execution_count": null,
   "id": "3670d92a-cc1b-4cab-a306-93951b48af45",
   "metadata": {},
   "outputs": [],
   "source": []
  },
  {
   "cell_type": "markdown",
   "id": "6a4a524f",
   "metadata": {},
   "source": [
    "### Copies and Views\n",
    "Read the following link: https://numpy.org/doc/stable/user/basics.copies.html"
   ]
  },
  {
   "cell_type": "markdown",
   "id": "6cbbeaf7",
   "metadata": {},
   "source": [
    "**Basic indexing creates a view, How can you check if v1 and v2 is a view or copy? If you change the last element in v2 to 123, will the last element in v1 be changed? Why?**"
   ]
  },
  {
   "cell_type": "code",
   "execution_count": 44,
   "id": "cb5cc09a",
   "metadata": {},
   "outputs": [
    {
     "name": "stdout",
     "output_type": "stream",
     "text": [
      "[0 1 2 3]\n",
      "[2 3]\n"
     ]
    }
   ],
   "source": [
    "v1 = np.arange(4)\n",
    "v2 = v1[-2:]\n",
    "print(v1)\n",
    "print(v2)"
   ]
  },
  {
   "cell_type": "code",
   "execution_count": 45,
   "id": "f16f0f84",
   "metadata": {},
   "outputs": [
    {
     "name": "stdout",
     "output_type": "stream",
     "text": [
      "None\n",
      "[0 1 2 3]\n"
     ]
    }
   ],
   "source": [
    "# The base attribute of a view returns the original array while it returns None for a copy.\n",
    "print(v1.base)\n",
    "print(v2.base)"
   ]
  },
  {
   "cell_type": "code",
   "execution_count": 46,
   "id": "aecb4e28",
   "metadata": {},
   "outputs": [
    {
     "name": "stdout",
     "output_type": "stream",
     "text": [
      "[  0   1   2 123]\n",
      "[  2 123]\n"
     ]
    }
   ],
   "source": [
    "# The last element in v1 will be changed aswell since v2 is a view, meaning they share the same data buffer.\n",
    "v2[-1] = 123\n",
    "print(v1)\n",
    "print(v2)"
   ]
  },
  {
   "cell_type": "code",
   "execution_count": null,
   "id": "4d27ce94",
   "metadata": {},
   "outputs": [],
   "source": []
  }
 ],
 "metadata": {
  "kernelspec": {
   "display_name": "Python 3 (ipykernel)",
   "language": "python",
   "name": "python3"
  },
  "language_info": {
   "codemirror_mode": {
    "name": "ipython",
    "version": 3
   },
   "file_extension": ".py",
   "mimetype": "text/x-python",
   "name": "python",
   "nbconvert_exporter": "python",
   "pygments_lexer": "ipython3",
   "version": "3.12.7"
  }
 },
 "nbformat": 4,
 "nbformat_minor": 5
}
