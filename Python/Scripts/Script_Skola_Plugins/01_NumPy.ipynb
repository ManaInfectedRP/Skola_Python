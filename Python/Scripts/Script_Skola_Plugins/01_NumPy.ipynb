{
 "cells": [
  {
   "cell_type": "markdown",
   "id": "dacf74e6",
   "metadata": {},
   "source": [
    "# NumPy"
   ]
  },
  {
   "cell_type": "markdown",
   "id": "01b2bf34",
   "metadata": {},
   "source": [
    "Read the links: https://numpy.org/doc/stable/user/quickstart.html  and https://numpy.org/doc/stable/user/basics.broadcasting.html  before solving the exercises. "
   ]
  },
  {
   "cell_type": "code",
   "execution_count": 1,
   "id": "1f79e4a6",
   "metadata": {},
   "outputs": [],
   "source": [
    "import numpy as np"
   ]
  },
  {
   "cell_type": "markdown",
   "id": "7dae6889",
   "metadata": {},
   "source": [
    "### Print out the dimension (number of axes), shape, size and the datatype of the matrix A."
   ]
  },
  {
   "cell_type": "code",
   "execution_count": 2,
   "id": "7b3678cd",
   "metadata": {},
   "outputs": [],
   "source": [
    "A = np.arange(1, 16).reshape(3,5)"
   ]
  },
  {
   "cell_type": "code",
   "execution_count": 3,
   "id": "31d39235",
   "metadata": {},
   "outputs": [
    {
     "name": "stdout",
     "output_type": "stream",
     "text": [
      "Matrix A:\n",
      "[[ 1  2  3  4  5]\n",
      " [ 6  7  8  9 10]\n",
      " [11 12 13 14 15]]\n",
      "\n",
      "Number of dimensions (ndim): 2\n",
      "Shape: (3, 5)\n",
      "Size (total number of elements): 15\n",
      "Data type (dtype): int64\n"
     ]
    }
   ],
   "source": [
    "print(\"Matrix A:\")\n",
    "print(A)\n",
    "\n",
    "print(\"\\nNumber of dimensions (ndim):\", A.ndim)\n",
    "print(\"Shape:\", A.shape)\n",
    "print(\"Size (total number of elements):\", A.size)\n",
    "print(\"Data type (dtype):\", A.dtype)"
   ]
  },
  {
   "cell_type": "markdown",
   "id": "e56d2a96",
   "metadata": {},
   "source": [
    "### Do the following computations on the matrices B and C: \n",
    "* Elementwise subtraction. \n",
    "* Elementwise multiplication. \n",
    "* Matrix multiplication (by default you should use the @ operator)."
   ]
  },
  {
   "cell_type": "code",
   "execution_count": 4,
   "id": "a7053fbb",
   "metadata": {},
   "outputs": [
    {
     "name": "stdout",
     "output_type": "stream",
     "text": [
      "[[1 2 3]\n",
      " [4 5 6]\n",
      " [7 8 9]]\n",
      "\n",
      "[[2. 2. 2.]\n",
      " [2. 2. 2.]\n",
      " [2. 2. 2.]]\n"
     ]
    }
   ],
   "source": [
    "B = np.arange(1, 10).reshape(3, 3)\n",
    "C = np.ones((3, 3))*2\n",
    "\n",
    "print(B)\n",
    "print()\n",
    "print(C)"
   ]
  },
  {
   "cell_type": "code",
   "execution_count": 5,
   "id": "3cd794ae",
   "metadata": {},
   "outputs": [
    {
     "name": "stdout",
     "output_type": "stream",
     "text": [
      "Matrix B:\n",
      "[[1 2 3]\n",
      " [4 5 6]\n",
      " [7 8 9]]\n",
      "\n",
      "Matrix C:\n",
      "[[2. 2. 2.]\n",
      " [2. 2. 2.]\n",
      " [2. 2. 2.]]\n",
      "\n",
      "Elementwise Subtraction (B - C):\n",
      "[[-1.  0.  1.]\n",
      " [ 2.  3.  4.]\n",
      " [ 5.  6.  7.]]\n",
      "\n",
      "Elementwise Multiplication (B * C):\n",
      "[[ 2.  4.  6.]\n",
      " [ 8. 10. 12.]\n",
      " [14. 16. 18.]]\n",
      "\n",
      "Matrix Multiplication (B @ C):\n",
      "[[12. 12. 12.]\n",
      " [30. 30. 30.]\n",
      " [48. 48. 48.]]\n"
     ]
    }
   ],
   "source": [
    "\n",
    "print(\"Matrix B:\")\n",
    "print(B)\n",
    "print(\"\\nMatrix C:\")\n",
    "print(C)\n",
    "\n",
    "# Elementwise subtraction\n",
    "subtraction = B - C\n",
    "print(\"\\nElementwise Subtraction (B - C):\")\n",
    "print(subtraction)\n",
    "\n",
    "# Elementwise multiplication\n",
    "elementwise_multiplication = B * C\n",
    "print(\"\\nElementwise Multiplication (B * C):\")\n",
    "print(elementwise_multiplication)\n",
    "\n",
    "# Matrix multiplication using @ operator\n",
    "matrix_multiplication = B @ C\n",
    "print(\"\\nMatrix Multiplication (B @ C):\")\n",
    "print(matrix_multiplication)"
   ]
  },
  {
   "cell_type": "markdown",
   "id": "96030d53",
   "metadata": {},
   "source": [
    "### Do the following calculations on the matrix:\n",
    "\n",
    "* Calculate the minimum value in the whole matrix. \n",
    "* Calculcate the minimum value in each row. \n",
    "* Calculcate the minimum value in each column. \n",
    "\n",
    "\n",
    "* Find the index value for the minimum value in the whole matrix (hint: use np.argmin).\n",
    "* Find the index value for the minimum value in each row (hint: use np.argmin).\n",
    "\n",
    "\n",
    "* Calculate the sum for all elements.\n",
    "* Calculate the mean for each column. \n",
    "* Calculate the median for each column. "
   ]
  },
  {
   "cell_type": "code",
   "execution_count": 6,
   "id": "f8a9166b",
   "metadata": {},
   "outputs": [
    {
     "name": "stdout",
     "output_type": "stream",
     "text": [
      "[[1 2 3]\n",
      " [4 5 6]\n",
      " [7 8 9]]\n"
     ]
    }
   ],
   "source": [
    "B = np.arange(1, 10).reshape(3, 3)\n",
    "print(B)"
   ]
  },
  {
   "cell_type": "code",
   "execution_count": 8,
   "id": "f03f24f7",
   "metadata": {},
   "outputs": [
    {
     "name": "stdout",
     "output_type": "stream",
     "text": [
      "\n",
      "Minimum value in the whole matrix: 1\n",
      "Minimum value in each row: [1 4 7]\n",
      "Minimum value in each column: [1 2 3]\n",
      "\n",
      "Index of the minimum value in the whole matrix (flattened): 0\n",
      "Index of the minimum value in each row: [0 0 0]\n",
      "\n",
      "Sum of all elements: 45\n",
      "Mean for each column: [4. 5. 6.]\n",
      "Median for each column: [4. 5. 6.]\n"
     ]
    }
   ],
   "source": [
    "# Minimum value in the whole matrix\n",
    "min_value = np.min(B)\n",
    "print(\"\\nMinimum value in the whole matrix:\", min_value)\n",
    "\n",
    "# Minimum value in each row\n",
    "min_per_row = np.min(B, axis=1)\n",
    "print(\"Minimum value in each row:\", min_per_row)\n",
    "\n",
    "# Minimum value in each column\n",
    "min_per_col = np.min(B, axis=0)\n",
    "print(\"Minimum value in each column:\", min_per_col)\n",
    "\n",
    "# Index of the minimum value in the whole matrix (flattened index)\n",
    "min_index = np.argmin(B)\n",
    "print(\"\\nIndex of the minimum value in the whole matrix (flattened):\", min_index)\n",
    "\n",
    "# Index of the minimum value in each row\n",
    "min_index_rowwise = np.argmin(B, axis=1)\n",
    "print(\"Index of the minimum value in each row:\", min_index_rowwise)\n",
    "\n",
    "# Sum of all elements\n",
    "total_sum = np.sum(B)\n",
    "print(\"\\nSum of all elements:\", total_sum)\n",
    "\n",
    "# Mean of each column\n",
    "mean_per_col = np.mean(B, axis=0)\n",
    "print(\"Mean for each column:\", mean_per_col)\n",
    "\n",
    "# Median of each column\n",
    "median_per_col = np.median(B, axis=0)\n",
    "print(\"Median for each column:\", median_per_col)"
   ]
  },
  {
   "cell_type": "markdown",
   "id": "541eb7ba",
   "metadata": {},
   "source": [
    "### What does it mean when you provide fewer indices than axes when slicing? See example below."
   ]
  },
  {
   "cell_type": "code",
   "execution_count": null,
   "id": "9c8abf56",
   "metadata": {},
   "outputs": [],
   "source": [
    "print(A)"
   ]
  },
  {
   "cell_type": "code",
   "execution_count": null,
   "id": "69415f7b",
   "metadata": {},
   "outputs": [],
   "source": [
    "A[1]"
   ]
  },
  {
   "cell_type": "markdown",
   "id": "6c53541b",
   "metadata": {},
   "source": [
    "**Answer:**"
   ]
  },
  {
   "cell_type": "code",
   "execution_count": 9,
   "id": "de01e120",
   "metadata": {},
   "outputs": [
    {
     "name": "stdout",
     "output_type": "stream",
     "text": [
      "\n",
      "A[1]:\n",
      "[ 6  7  8  9 10]\n"
     ]
    }
   ],
   "source": [
    "print(\"\\nA[1]:\")\n",
    "print(A[1])\n",
    "\n",
    "# A is a 2D array with shape (3, 5) — 3 rows and 5 columns.\n",
    "# A[1] gives you the second row (index 1) of the matrix."
   ]
  },
  {
   "cell_type": "markdown",
   "id": "6652d0c9",
   "metadata": {},
   "source": [
    "### Iterating over multidimensional arrays is done with respect to the first axis, so in the example below we iterate trough the rows. If you would like to iterate through the array *elementwise*, how would you do that?"
   ]
  },
  {
   "cell_type": "code",
   "execution_count": 10,
   "id": "9459864f",
   "metadata": {},
   "outputs": [
    {
     "data": {
      "text/plain": [
       "array([[ 1,  2,  3,  4,  5],\n",
       "       [ 6,  7,  8,  9, 10],\n",
       "       [11, 12, 13, 14, 15]])"
      ]
     },
     "execution_count": 10,
     "metadata": {},
     "output_type": "execute_result"
    }
   ],
   "source": [
    "A"
   ]
  },
  {
   "cell_type": "code",
   "execution_count": 11,
   "id": "a671bb5a",
   "metadata": {},
   "outputs": [
    {
     "name": "stdout",
     "output_type": "stream",
     "text": [
      "[1 2 3 4 5]\n",
      "[ 6  7  8  9 10]\n",
      "[11 12 13 14 15]\n"
     ]
    }
   ],
   "source": [
    "for i in A:\n",
    "    print(i)"
   ]
  },
  {
   "cell_type": "code",
   "execution_count": 12,
   "id": "f4e443a0",
   "metadata": {},
   "outputs": [
    {
     "name": "stdout",
     "output_type": "stream",
     "text": [
      "1\n",
      "2\n",
      "3\n",
      "4\n",
      "5\n",
      "6\n",
      "7\n",
      "8\n",
      "9\n",
      "10\n",
      "11\n",
      "12\n",
      "13\n",
      "14\n",
      "15\n"
     ]
    }
   ],
   "source": [
    "A = np.arange(1, 16).reshape(3, 5)\n",
    "\n",
    "for element in np.nditer(A):\n",
    "    print(element)"
   ]
  },
  {
   "cell_type": "markdown",
   "id": "608a2583",
   "metadata": {},
   "source": [
    "### Explain what the code below does. More specifically, b has three axes - what does this mean? "
   ]
  },
  {
   "cell_type": "code",
   "execution_count": null,
   "id": "f8f9b26f",
   "metadata": {},
   "outputs": [],
   "source": [
    "a = np.arange(30)\n",
    "b = a.reshape((2, 3, -1))\n",
    "print(a)\n",
    "print()\n",
    "\n",
    "print(b)"
   ]
  },
  {
   "cell_type": "code",
   "execution_count": null,
   "id": "863a45df",
   "metadata": {},
   "outputs": [],
   "source": [
    "#b has 3 axes — it's a 3D array of shape (2, 3, 5).\n",
    "\n",
    "# This means it's structured like:\n",
    "# 2 blocks (axis 0),\n",
    "# each block has 3 rows (axis 1),\n",
    "# each row has 5 columns (axis 2).\n",
    "\n",
    "Output (abridged for clarity):\n",
    "[ 0  1  2  3  4  5 ... 29]\n",
    "\n",
    "[[[ 0  1  2  3  4]\n",
    "  [ 5  6  7  8  9]\n",
    "  [10 11 12 13 14]]\n",
    "\n",
    " [[15 16 17 18 19]\n",
    "  [20 21 22 23 24]\n",
    "  [25 26 27 28 29]]]"
   ]
  },
  {
   "cell_type": "markdown",
   "id": "ab5933d5",
   "metadata": {},
   "source": [
    "### Broadcasting\n",
    "**Read the following link about broadcasting: https://numpy.org/doc/stable/user/basics.broadcasting.html#basics-broadcasting**"
   ]
  },
  {
   "cell_type": "markdown",
   "id": "039805ba",
   "metadata": {},
   "source": [
    "# Remark on Broadcasting when doing Linear Algebra calculations in Python. "
   ]
  },
  {
   "cell_type": "markdown",
   "id": "c4bcc147",
   "metadata": {},
   "source": [
    "### From the mathematical rules of matrix addition, the operation below (m1 + m2) does not make sense. The reason is that matrix addition requires two matrices of the same size. In Python however, it works due to broadcasting rules in NumPy. So you must be careful when doing Linear Algebra calculations in Python since they do not follow the \"mathematical rules\". This can however easily be handled by doing some simple programming, for example validating that two matrices have the same shape is easy if you for instance want to add two matrices. "
   ]
  },
  {
   "cell_type": "code",
   "execution_count": null,
   "id": "1fd46778",
   "metadata": {},
   "outputs": [],
   "source": [
    "m1 = np.array([[1, 2], [3, 4]])\n",
    "m2 = np.array([1, 1])\n",
    "print(m1 + m2)"
   ]
  },
  {
   "cell_type": "markdown",
   "id": "047d6576",
   "metadata": {},
   "source": [
    "### The example below would also not be allowed if following the \"mathematical rules\" in Linear Algebra. But it works due to broadcasting in NumPy. "
   ]
  },
  {
   "cell_type": "code",
   "execution_count": null,
   "id": "5e6ef2e4",
   "metadata": {},
   "outputs": [],
   "source": [
    "v1 = np.array([1, 2, 3])\n",
    "print(v1 + 1)"
   ]
  },
  {
   "cell_type": "code",
   "execution_count": null,
   "id": "e2cbae26",
   "metadata": {},
   "outputs": [],
   "source": [
    "A = np.arange(1, 5).reshape(2,2)\n",
    "print(A)\n",
    "\n",
    "b = np.array([2, 2])\n",
    "print(b)"
   ]
  },
  {
   "cell_type": "markdown",
   "id": "722fd5cd",
   "metadata": {},
   "source": [
    "# Vector- and matrix algebra Exercises"
   ]
  },
  {
   "cell_type": "markdown",
   "id": "b63a3081-d976-4d9f-bfd0-a63917e79f7d",
   "metadata": {},
   "source": [
    "**Now you are going to create a function that can be reused every time you add or multiply matrices. The function is created so that we do the addition and multiplication according to the rules of vector- and matrix algebra.**\n",
    "\n",
    "**Create a function \"add_mult_matrices\" that takes two matrices as input arguments (validate that the input are of the type numpy.ndarray by using the isinstance function), a third argument that is either 'add' or 'multiply' that specifies if you want to add or multiply the matrices (validate that the third argument is either 'add' or 'multiply'). When doing matrix addition, validate that the matrices have the same size. When doing matrix multiplication, validate that the sizes conform (i.e. number of columns in the first matrix is equal to the number of rows in the second matrix).**"
   ]
  },
  {
   "cell_type": "code",
   "execution_count": 13,
   "id": "3506f977-ac0a-473f-85bc-eec9f35dc498",
   "metadata": {},
   "outputs": [
    {
     "name": "stdout",
     "output_type": "stream",
     "text": [
      "[[ 6  8]\n",
      " [10 12]]\n",
      "[[19 22]\n",
      " [43 50]]\n"
     ]
    }
   ],
   "source": [
    "def add_mult_matrices(mat1, mat2, operation):\n",
    "    # Validate input types\n",
    "    if not isinstance(mat1, np.ndarray) or not isinstance(mat2, np.ndarray):\n",
    "        raise TypeError(\"Both inputs must be numpy.ndarray.\")\n",
    "    \n",
    "    # Validate operation argument\n",
    "    if operation not in ['add', 'multiply']:\n",
    "        raise ValueError(\"Operation must be either 'add' or 'multiply'.\")\n",
    "    \n",
    "    if operation == 'add':\n",
    "        # Check if shapes are the same\n",
    "        if mat1.shape != mat2.shape:\n",
    "            raise ValueError(\"For addition, matrices must have the same shape.\")\n",
    "        return mat1 + mat2\n",
    "    \n",
    "    elif operation == 'multiply':\n",
    "        # Check if shapes are conformable for matrix multiplication\n",
    "        if mat1.shape[1] != mat2.shape[0]:\n",
    "            raise ValueError(\"For multiplication, the number of columns in the first matrix must equal the number of rows in the second.\")\n",
    "        return mat1 @ mat2\n",
    "    \n",
    "A = np.array([[1, 2], [3, 4]])\n",
    "B = np.array([[5, 6], [7, 8]])\n",
    "\n",
    "# Matrix Addition\n",
    "print(add_mult_matrices(A, B, 'add'))\n",
    "\n",
    "# Matrix Multiplication\n",
    "print(add_mult_matrices(A, B, 'multiply'))\n"
   ]
  },
  {
   "cell_type": "markdown",
   "id": "8dad82d0-2359-4dff-8f5b-a57d3e34103c",
   "metadata": {},
   "source": [
    "### Solve all the exercises in chapter 10.1 in the book \"Matematik för yrkeshögskolan\" by using Python. Note, the function you created above can be used. "
   ]
  },
  {
   "cell_type": "code",
   "execution_count": 14,
   "id": "89df88af-3668-4d98-a0a4-e6d92eea0f89",
   "metadata": {},
   "outputs": [
    {
     "name": "stdout",
     "output_type": "stream",
     "text": [
      "(a) Dimension of x: (2,)\n",
      "(b) 5x = [20 15]\n",
      "(c) 3x = [12  9]\n",
      "(d) 5x + 3x = [32 24]\n",
      "(e) 8x = [32 24]\n",
      "(f) 4x - x = [12  9]\n",
      "(g) x^T shape: (1, 2)\n",
      "(h) x + x^T is defined. Result:\n",
      " [[8 6]]\n",
      "(i) ||x|| = 5.0\n",
      "(a) Dimension of v: (4,)\n",
      "(b) 2v = [ 6 14  0 22]\n",
      "(c) 5v + 2v = [21 49  0 77]\n",
      "(d) 4v - 2v = [ 6 14  0 22]\n",
      "(e) v^T shape: (1, 4)\n",
      "(f) ||v|| = 13.379088160259652\n",
      "(a) ||v1|| = 7.14142842854285\n",
      "(b) ||v1 - v2|| = 4.47213595499958\n"
     ]
    }
   ],
   "source": [
    "## Uppgift 10.1.1\n",
    "# Define vector x\n",
    "x = np.array([4, 3])\n",
    "\n",
    "# (a) Dimension of x\n",
    "print(\"(a) Dimension of x:\", x.shape)\n",
    "\n",
    "# (b) 5x\n",
    "print(\"(b) 5x =\", 5 * x)\n",
    "\n",
    "# (c) 3x\n",
    "print(\"(c) 3x =\", 3 * x)\n",
    "\n",
    "# (d) 5x + 3x\n",
    "print(\"(d) 5x + 3x =\", 5 * x + 3 * x)\n",
    "\n",
    "# (e) 8x\n",
    "print(\"(e) 8x =\", 8 * x)\n",
    "\n",
    "# (f) 4x - x\n",
    "print(\"(f) 4x - x =\", 4 * x - x)\n",
    "\n",
    "# (g) Transpose of x\n",
    "x_T = x.reshape(2, 1).T  # or x[np.newaxis, :]\n",
    "print(\"(g) x^T shape:\", x_T.shape)\n",
    "\n",
    "# (h) Is x + x^T defined?\n",
    "try:\n",
    "    result = x + x_T\n",
    "    print(\"(h) x + x^T is defined. Result:\\n\", result)\n",
    "except ValueError as e:\n",
    "    print(\"(h) x + x^T is NOT defined:\", e)\n",
    "\n",
    "# (i) ||x|| (norm of x)\n",
    "norm_x = np.linalg.norm(x)\n",
    "print(\"(i) ||x|| =\", norm_x)\n",
    "\n",
    "## Uppgift 10.1.2\n",
    "# Define vector v\n",
    "v = np.array([3, 7, 0, 11])\n",
    "\n",
    "# (a) Dimension of v\n",
    "print(\"(a) Dimension of v:\", v.shape)\n",
    "\n",
    "# (b) 2v\n",
    "print(\"(b) 2v =\", 2 * v)\n",
    "\n",
    "# Define vector v\n",
    "v = np.array([3, 7, 0, 11])\n",
    "\n",
    "# (c) 5v + 2v\n",
    "print(\"(c) 5v + 2v =\", 5 * v + 2 * v)\n",
    "\n",
    "# (d) 4v - 2v\n",
    "print(\"(d) 4v - 2v =\", 4 * v - 2 * v)\n",
    "\n",
    "# (e) Transpose of v\n",
    "v_T = v.reshape(4, 1).T\n",
    "print(\"(e) v^T shape:\", v_T.shape)\n",
    "\n",
    "# (f) Norm of v\n",
    "norm_v = np.linalg.norm(v)\n",
    "print(\"(f) ||v|| =\", norm_v)\n",
    "\n",
    "## Uppgift 10.1.3\n",
    "# Define vectors v1 and v2\n",
    "v1 = np.array([4, 3, 1, 5])\n",
    "v2 = np.array([2, 3, 1, 1])\n",
    "\n",
    "# (a) ||v1||\n",
    "norm_v1 = np.linalg.norm(v1)\n",
    "print(\"(a) ||v1|| =\", norm_v1)\n",
    "\n",
    "# (b) ||v1 - v2||\n",
    "diff_norm = np.linalg.norm(v1 - v2)\n",
    "print(\"(b) ||v1 - v2|| =\", diff_norm)\n"
   ]
  },
  {
   "cell_type": "markdown",
   "id": "75c98984-1f88-4df1-b850-d2466de444a5",
   "metadata": {},
   "source": [
    "### Solve all the exercises, except 10.2.4, in chapter 10.2 in the book \"Matematik för yrkeshögskolan\" by using Python. Note, the function you created above can be used."
   ]
  },
  {
   "cell_type": "code",
   "execution_count": null,
   "id": "65371610-16e1-48b2-b7fb-65e49002608a",
   "metadata": {},
   "outputs": [],
   "source": []
  },
  {
   "cell_type": "markdown",
   "id": "6a4a524f",
   "metadata": {},
   "source": [
    "### Copies and Views\n",
    "Read the following link: https://numpy.org/doc/stable/user/basics.copies.html"
   ]
  },
  {
   "cell_type": "markdown",
   "id": "6cbbeaf7",
   "metadata": {},
   "source": [
    "**Basic indexing creates a view, How can you check if v1 and v2 is a view or copy? If you change the last element in v2 to 123, will the last element in v1 be changed? Why?**"
   ]
  },
  {
   "cell_type": "code",
   "execution_count": null,
   "id": "5b9ef4df",
   "metadata": {},
   "outputs": [],
   "source": [
    "v1 = np.arange(4)\n",
    "v2 = v1[-2:]\n",
    "print(v1)\n",
    "print(v2)"
   ]
  },
  {
   "cell_type": "code",
   "execution_count": null,
   "id": "d2440489",
   "metadata": {},
   "outputs": [],
   "source": [
    "# The base attribute of a view returns the original array while it returns None for a copy.\n",
    "print(v1.base)\n",
    "print(v2.base)"
   ]
  },
  {
   "cell_type": "code",
   "execution_count": null,
   "id": "c8752807",
   "metadata": {},
   "outputs": [],
   "source": [
    "# The last element in v1 will be changed aswell since v2 is a view, meaning they share the same data buffer.\n",
    "v2[-1] = 123\n",
    "print(v1)\n",
    "print(v2)"
   ]
  },
  {
   "cell_type": "code",
   "execution_count": null,
   "id": "3dd68221",
   "metadata": {},
   "outputs": [],
   "source": [
    "# v1 is the original array, so v1.base is None.\n",
    "# v2 is a view on v1, so v2.base points to v1.\n",
    "\n",
    "# changing v2[-1] modifies the data in the buffer shared by both v1 and v2, so the last element of v1 is also modified when v2 is changed.\n",
    "#v2 is a view on v1. This means v2 doesn't store its own data, but instead, it refers to the same underlying memory buffer as v1.\n",
    "#  Thus, when you change an element in v2, it modifies the same data that v1 is pointing to. Since both arrays refer to the same memory, the change is reflected in both."
   ]
  }
 ],
 "metadata": {
  "kernelspec": {
   "display_name": "Python 3",
   "language": "python",
   "name": "python3"
  },
  "language_info": {
   "codemirror_mode": {
    "name": "ipython",
    "version": 3
   },
   "file_extension": ".py",
   "mimetype": "text/x-python",
   "name": "python",
   "nbconvert_exporter": "python",
   "pygments_lexer": "ipython3",
   "version": "3.12.9"
  }
 },
 "nbformat": 4,
 "nbformat_minor": 5
}
