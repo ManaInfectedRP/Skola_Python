{
 "cells": [
  {
   "cell_type": "markdown",
   "id": "99fdf965-6382-4144-b08f-30fea759de05",
   "metadata": {},
   "source": [
    "# Uppgifter, Kapitel 10 - Moduler och paket"
   ]
  },
  {
   "cell_type": "markdown",
   "id": "0bcaacd2-e69e-4a2c-85b0-fc1bc83353e2",
   "metadata": {},
   "source": [
    "1. Vad är en modul och hur kan en sådan användas i andra filer? "
   ]
  },
  {
   "cell_type": "code",
   "execution_count": null,
   "id": "628bb385-030f-44c3-81f3-ec742ae523dc",
   "metadata": {},
   "outputs": [],
   "source": [
    "En modul i Python är en fil som innehåller Python-kod, vilket kan vara funktioner, klasser, variabler eller även körbar kod.\n",
    "Moduler gör det möjligt att organisera och återanvända kod, vilket är särskilt användbart i större program.\n",
    "Genom att dela upp programmet i flera moduler blir koden mer strukturerad och enklare att underhålla."
   ]
  },
  {
   "cell_type": "markdown",
   "id": "f68d3418-d82f-4a68-b606-a3f320683979",
   "metadata": {},
   "source": [
    "2. a) Importera modulen \"math\" från \"The Python Standard Library\": https://docs.python.org/3/library/index.html utan att använda aliasing.\n",
    "   \n",
    "   b) Skriv help(math.ceil). Förstår du vad \"ceil()\" funktionen gör?\n",
    "\n",
    "   c) Skriv math.ceil(10.2), vad får du för svar och varför?\n",
    "\n",
    "   d) Skriv math.ceil(9.8), vad får du för svar och varför? "
   ]
  },
  {
   "cell_type": "code",
   "execution_count": null,
   "id": "09dea5fb-7a11-47d2-912f-e07e90de54f5",
   "metadata": {},
   "outputs": [],
   "source": [
    "# A:\n",
    "import math\n",
    "\n",
    "# B:\n",
    "help(math.ceil)\n",
    "# Denna funktion returnerar det minsta heltalet som är större än eller lika med det angivna talet.\n",
    "# Med andra ord, den rundar upp till närmaste heltal.\n",
    "#  Om du till exempel har ett flyttal som 5.3, kommer ceil() att returnera 6.\n",
    "\n",
    "# C:\n",
    "print(math.ceil(10.2))\n",
    "# ceil(10.2) rundar upp talet 10.2 till nästa heltal, vilket är 11.\n",
    "#  Denna funktion rundar alltid upp, även om talet är mycket nära det lägre heltalet.\n",
    "\n",
    "# D:\n",
    "print(math.ceil(9.8))\n",
    "# ceil(9.8) rundar upp talet 9.8 till nästa heltal, vilket är 10.\n",
    "#  Precis som tidigare rundar ceil() upp till närmaste heltal, även om det är mycket nära det lägre heltalet."
   ]
  },
  {
   "cell_type": "markdown",
   "id": "d6a8bb81-a567-4a38-8972-1e658fd547fa",
   "metadata": {},
   "source": [
    "3. Bygg en egen modul som till exempel innehåller två funktioner, importera därefter denna modulen i ett annat skript och prova använd de två funktionerna. Notera att modulen du bygger skall skrivas i ett \"vanligt skript\" (en .py fil) och inte i en jupyter notebook fil (.ipynb). Du kan däremot importera modulen (.py filen) i en jupyter notebook (.ipynb fil).\n",
    "  \n",
    "   Om du önskar importera en jupyter notebook (.ipynb fil) till en annan jupyter notebook (.ipynb fil) så kan du kolla igenom följande smidiga paket: https://pypi.org/project/import-ipynb/ ."
   ]
  },
  {
   "cell_type": "code",
   "execution_count": null,
   "id": "9e56e5ea-42f5-4f7b-8aea-fdf8e82f084a",
   "metadata": {},
   "outputs": [],
   "source": [
    "# math_operations.py\n",
    "\n",
    "# Funktion för att addera två tal\n",
    "def add(a, b):\n",
    "    return a + b\n",
    "\n",
    "# Funktion för att subtrahera två tal\n",
    "def subtract(a, b):\n",
    "    return a - b"
   ]
  },
  {
   "cell_type": "code",
   "execution_count": null,
   "id": "8f5fb43d",
   "metadata": {},
   "outputs": [],
   "source": [
    "# Testning.ipynb\n",
    "# Importera modulen 'math_operations'\n",
    "import math_operations\n",
    "\n",
    "# Använd funktionerna från modulen\n",
    "result_add = math_operations.add(5, 3)\n",
    "result_sub = math_operations.subtract(10, 4)\n",
    "\n",
    "# Skriv ut resultaten\n",
    "print(f\"Addition: {result_add}\")\n",
    "print(f\"Subtraktion: {result_sub}\")"
   ]
  }
 ],
 "metadata": {
  "kernelspec": {
   "display_name": "Python 3 (ipykernel)",
   "language": "python",
   "name": "python3"
  },
  "language_info": {
   "codemirror_mode": {
    "name": "ipython",
    "version": 3
   },
   "file_extension": ".py",
   "mimetype": "text/x-python",
   "name": "python",
   "nbconvert_exporter": "python",
   "pygments_lexer": "ipython3",
   "version": "3.9.18"
  }
 },
 "nbformat": 4,
 "nbformat_minor": 5
}
