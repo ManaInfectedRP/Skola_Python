{
 "cells": [
  {
   "cell_type": "markdown",
   "id": "f193e061",
   "metadata": {},
   "source": [
    "# Python exercises 1 part 1/2\n",
    "The exercises are connected to the video available at: https://www.youtube.com/watch?v=M7bnYJyCx0Q from 0:00 to 1:02:20.\n",
    "\n",
    "When writing the solutions make sure the code is clear and readable. When providing comments, follow the general principle that you should comment \"why\" you are doing something and not \"what\", the \"what\" is seen by the code itself. "
   ]
  },
  {
   "cell_type": "markdown",
   "id": "fca64927",
   "metadata": {},
   "source": [
    "### Add and multiply the two numbers below. "
   ]
  },
  {
   "cell_type": "code",
   "execution_count": null,
   "id": "a904dc86",
   "metadata": {},
   "outputs": [],
   "source": [
    "nr1 = 5\n",
    "nr2 = 10"
   ]
  },
  {
   "cell_type": "code",
   "execution_count": 1,
   "id": "e6dbf0a8",
   "metadata": {},
   "outputs": [
    {
     "name": "stdout",
     "output_type": "stream",
     "text": [
      "Sum: 15\n",
      "Product: 50\n"
     ]
    }
   ],
   "source": [
    "nr1 = 5\n",
    "nr2 = 10\n",
    "\n",
    "# Add the numbers\n",
    "sum_result = nr1 + nr2\n",
    "\n",
    "# Multiply the numbers\n",
    "product_result = nr1 * nr2\n",
    "\n",
    "print(\"Sum:\", sum_result)\n",
    "print(\"Product:\", product_result)"
   ]
  },
  {
   "cell_type": "markdown",
   "id": "73a0e54d",
   "metadata": {},
   "source": [
    "# Lists"
   ]
  },
  {
   "cell_type": "markdown",
   "id": "86d1e9fb",
   "metadata": {},
   "source": [
    "### Extract the first and last element in the list."
   ]
  },
  {
   "cell_type": "code",
   "execution_count": null,
   "id": "bcf3c7c7",
   "metadata": {},
   "outputs": [],
   "source": [
    "l = [1, 2, 3, 10, 15, 100]"
   ]
  },
  {
   "cell_type": "code",
   "execution_count": 2,
   "id": "c8c1ad57",
   "metadata": {},
   "outputs": [
    {
     "name": "stdout",
     "output_type": "stream",
     "text": [
      "First element: 1\n",
      "Last element: 100\n"
     ]
    }
   ],
   "source": [
    "l = [1, 2, 3, 10, 15, 100]\n",
    "\n",
    "first_element = l[0]\n",
    "last_element = l[-1]\n",
    "\n",
    "print(\"First element:\", first_element)\n",
    "print(\"Last element:\", last_element)"
   ]
  },
  {
   "cell_type": "markdown",
   "id": "acd427da",
   "metadata": {},
   "source": [
    "### Check if the first and last number is the same in each list respectively. So, we expect the answer True in list_1 and False in list_2."
   ]
  },
  {
   "cell_type": "code",
   "execution_count": null,
   "id": "191cc82d",
   "metadata": {},
   "outputs": [],
   "source": [
    "list_1 = [10, 20, 30, 40, 10]\n",
    "list_2 = [75, 65, 35, 75, 30]"
   ]
  },
  {
   "cell_type": "code",
   "execution_count": 3,
   "id": "3abe7838",
   "metadata": {},
   "outputs": [
    {
     "name": "stdout",
     "output_type": "stream",
     "text": [
      "List 1 - First and last are the same: True\n",
      "List 2 - First and last are the same: False\n"
     ]
    }
   ],
   "source": [
    "list_1 = [10, 20, 30, 40, 10]\n",
    "list_2 = [75, 65, 35, 75, 30]\n",
    "\n",
    "# Check for list_1\n",
    "result_1 = list_1[0] == list_1[-1]\n",
    "\n",
    "# Check for list_2\n",
    "result_2 = list_2[0] == list_2[-1]\n",
    "\n",
    "print(\"List 1 - First and last are the same:\", result_1)\n",
    "print(\"List 2 - First and last are the same:\", result_2)"
   ]
  },
  {
   "cell_type": "markdown",
   "id": "fbe9606a",
   "metadata": {},
   "source": [
    "### Replace the number 4567 in the list with the number 22. "
   ]
  },
  {
   "cell_type": "code",
   "execution_count": null,
   "id": "c112096f",
   "metadata": {},
   "outputs": [],
   "source": [
    "replace_4567 = [100, 2, 4567, 5, 7]"
   ]
  },
  {
   "cell_type": "code",
   "execution_count": 4,
   "id": "b88c6628",
   "metadata": {},
   "outputs": [
    {
     "name": "stdout",
     "output_type": "stream",
     "text": [
      "[100, 2, 22, 5, 7]\n"
     ]
    }
   ],
   "source": [
    "replace_4567 = [100, 2, 4567, 5, 7]\n",
    "\n",
    "# Find the index of 4567\n",
    "index_4567 = replace_4567.index(4567)\n",
    "\n",
    "# Replace it with 22\n",
    "replace_4567[index_4567] = 22\n",
    "\n",
    "print(replace_4567)"
   ]
  },
  {
   "cell_type": "markdown",
   "id": "32fe337d",
   "metadata": {},
   "source": [
    "### Replace the two numbers 3 and 4 with 30 and 40 in one line of code  by using slicing. "
   ]
  },
  {
   "cell_type": "code",
   "execution_count": null,
   "id": "9d3eecd6",
   "metadata": {},
   "outputs": [],
   "source": [
    "replace_two_numbers = [1, 2, 3, 4, 5]"
   ]
  },
  {
   "cell_type": "code",
   "execution_count": 5,
   "id": "e6798e4f",
   "metadata": {},
   "outputs": [
    {
     "name": "stdout",
     "output_type": "stream",
     "text": [
      "[1, 2, 30, 40, 5]\n"
     ]
    }
   ],
   "source": [
    "replace_two_numbers = [1, 2, 3, 4, 5]\n",
    "\n",
    "replace_two_numbers[2:4] = [30, 40]\n",
    "\n",
    "print(replace_two_numbers)"
   ]
  },
  {
   "cell_type": "markdown",
   "id": "1d595e27",
   "metadata": {},
   "source": [
    "### Print out the list below but in reverse order."
   ]
  },
  {
   "cell_type": "code",
   "execution_count": null,
   "id": "6df7567f",
   "metadata": {},
   "outputs": [],
   "source": [
    "my_list = [1, 2, 3, 10, 15, 100]"
   ]
  },
  {
   "cell_type": "code",
   "execution_count": 6,
   "id": "88e8e811",
   "metadata": {},
   "outputs": [
    {
     "name": "stdout",
     "output_type": "stream",
     "text": [
      "[100, 15, 10, 3, 2, 1]\n"
     ]
    }
   ],
   "source": [
    "my_list = [1, 2, 3, 10, 15, 100]\n",
    "\n",
    "print(my_list[::-1])\n"
   ]
  },
  {
   "cell_type": "markdown",
   "id": "54c58e8a",
   "metadata": {},
   "source": [
    "### Extract the following numbers with indexing or slicing:\n",
    "* The number 5 in the list within the list. \n",
    "* Extract the whole list [10, 12, 13, 5, 100].\n",
    "* Extract 12, 13, 5 in the list within the list\n",
    "* Extract the number 8888 with negative indexing.\n",
    "* Extract 1, 2, [10, 12, 13, 5, 100]."
   ]
  },
  {
   "cell_type": "code",
   "execution_count": null,
   "id": "c12e313d",
   "metadata": {},
   "outputs": [],
   "source": [
    "list_containing_a_list = [1, 2, [10, 12, 13, 5, 100], 8888, 3, [1, 2, 3]]"
   ]
  },
  {
   "cell_type": "code",
   "execution_count": 7,
   "id": "7801b694",
   "metadata": {},
   "outputs": [
    {
     "name": "stdout",
     "output_type": "stream",
     "text": [
      "Number 5: 5\n",
      "Whole inner list: [10, 12, 13, 5, 100]\n",
      "12, 13, 5: [12, 13, 5]\n",
      "8888 with negative indexing: [10, 12, 13, 5, 100]\n",
      "1, 2, and inner list: [1, 2, [10, 12, 13, 5, 100]]\n"
     ]
    }
   ],
   "source": [
    "list_containing_a_list = [1, 2, [10, 12, 13, 5, 100], 8888, 3, [1, 2, 3]]\n",
    "\n",
    "# 1. Extract the number 5 in the list within the list\n",
    "num_5 = list_containing_a_list[2][3]\n",
    "\n",
    "# 2. Extract the whole list [10, 12, 13, 5, 100]\n",
    "inner_list = list_containing_a_list[2]\n",
    "\n",
    "# 3. Extract 12, 13, 5 in the list within the list\n",
    "subset = list_containing_a_list[2][1:4]\n",
    "\n",
    "# 4. Extract the number 8888 with negative indexing\n",
    "num_8888 = list_containing_a_list[-4]\n",
    "\n",
    "# 5. Extract 1, 2, [10, 12, 13, 5, 100]\n",
    "partial = list_containing_a_list[0:3]\n",
    "\n",
    "print(\"Number 5:\", num_5)\n",
    "print(\"Whole inner list:\", inner_list)\n",
    "print(\"12, 13, 5:\", subset)\n",
    "print(\"8888 with negative indexing:\", num_8888)\n",
    "print(\"1, 2, and inner list:\", partial)\n"
   ]
  },
  {
   "cell_type": "markdown",
   "id": "731a9e3e",
   "metadata": {},
   "source": [
    "### Append the empty list with the number 10 and the string 'Hello'. You should use the append method twice. "
   ]
  },
  {
   "cell_type": "code",
   "execution_count": null,
   "id": "faecabaa",
   "metadata": {},
   "outputs": [],
   "source": [
    "empty_list_1 = []"
   ]
  },
  {
   "cell_type": "code",
   "execution_count": 8,
   "id": "e5e57508",
   "metadata": {},
   "outputs": [
    {
     "name": "stdout",
     "output_type": "stream",
     "text": [
      "[10, 'Hello']\n"
     ]
    }
   ],
   "source": [
    "empty_list_1 = []\n",
    "\n",
    "empty_list_1.append(10)\n",
    "empty_list_1.append('Hello')\n",
    "\n",
    "print(empty_list_1)\n"
   ]
  },
  {
   "cell_type": "markdown",
   "id": "bebb5618",
   "metadata": {},
   "source": [
    "### Append the empty list with the number 10 and the string 'Hello'. You should use the extend method once. "
   ]
  },
  {
   "cell_type": "code",
   "execution_count": null,
   "id": "82e7301a",
   "metadata": {},
   "outputs": [],
   "source": [
    "empty_list_2 = []"
   ]
  },
  {
   "cell_type": "code",
   "execution_count": 9,
   "id": "ffc6525f",
   "metadata": {},
   "outputs": [
    {
     "name": "stdout",
     "output_type": "stream",
     "text": [
      "[10, 'Hello']\n"
     ]
    }
   ],
   "source": [
    "empty_list_2 = []\n",
    "\n",
    "empty_list_2.extend([10, 'Hello'])\n",
    "\n",
    "print(empty_list_2)\n"
   ]
  },
  {
   "cell_type": "markdown",
   "id": "539b730a",
   "metadata": {},
   "source": [
    "### Use list comprehension to create a new list from list_example, where each number is mulitplied by 10. You should only include the numbers between 4-8 where 4 and 8 is included."
   ]
  },
  {
   "cell_type": "code",
   "execution_count": null,
   "id": "14300485",
   "metadata": {},
   "outputs": [],
   "source": [
    "list_example = [1, 2, 3, 4, 5, 6, 7, 8, 9, 10]"
   ]
  },
  {
   "cell_type": "code",
   "execution_count": 10,
   "id": "61207a3b",
   "metadata": {},
   "outputs": [
    {
     "name": "stdout",
     "output_type": "stream",
     "text": [
      "[40, 50, 60, 70, 80]\n"
     ]
    }
   ],
   "source": [
    "list_example = [1, 2, 3, 4, 5, 6, 7, 8, 9, 10]\n",
    "\n",
    "new_list = [x * 10 for x in list_example if 4 <= x <= 8]\n",
    "\n",
    "print(new_list)\n"
   ]
  },
  {
   "cell_type": "markdown",
   "id": "49aa8bb4",
   "metadata": {},
   "source": [
    "### Concatenate the two lists below elementwise so you get a new list ['My', 'name', 'is', 'Antonio']. Hint: use the zip function. \n",
    "Expected output: [\"My\", \"name\", \"is\", \"Antonio\"]. "
   ]
  },
  {
   "cell_type": "code",
   "execution_count": null,
   "id": "fde2701c",
   "metadata": {},
   "outputs": [],
   "source": [
    "list1 = [\"M\", \"na\", \"i\", \"Anto\"]\n",
    "list2 = [\"y\", \"me\", \"s\", \"nio\"]"
   ]
  },
  {
   "cell_type": "code",
   "execution_count": 11,
   "id": "3e7f0356",
   "metadata": {},
   "outputs": [
    {
     "name": "stdout",
     "output_type": "stream",
     "text": [
      "['My', 'name', 'is', 'Antonio']\n"
     ]
    }
   ],
   "source": [
    "list1 = [\"M\", \"na\", \"i\", \"Anto\"]\n",
    "list2 = [\"y\", \"me\", \"s\", \"nio\"]\n",
    "\n",
    "result = [a + b for a, b in zip(list1, list2)]\n",
    "\n",
    "print(result)\n"
   ]
  },
  {
   "cell_type": "markdown",
   "id": "56bf725b",
   "metadata": {},
   "source": [
    "# Tuples"
   ]
  },
  {
   "cell_type": "markdown",
   "id": "d389f5d9",
   "metadata": {},
   "source": [
    "### Unpack the tuple so that we get 4 new variables. "
   ]
  },
  {
   "cell_type": "code",
   "execution_count": null,
   "id": "391422e9",
   "metadata": {},
   "outputs": [],
   "source": [
    "my_tuple = (10, 20, 30, 40)"
   ]
  },
  {
   "cell_type": "code",
   "execution_count": 12,
   "id": "bc420b70",
   "metadata": {},
   "outputs": [
    {
     "name": "stdout",
     "output_type": "stream",
     "text": [
      "10\n",
      "20\n",
      "30\n",
      "40\n"
     ]
    }
   ],
   "source": [
    "my_tuple = (10, 20, 30, 40)\n",
    "\n",
    "a, b, c, d = my_tuple\n",
    "\n",
    "print(a)  # 10\n",
    "print(b)  # 20\n",
    "print(c)  # 30\n",
    "print(d)  # 40\n"
   ]
  },
  {
   "cell_type": "markdown",
   "id": "e3dbd7e3",
   "metadata": {},
   "source": [
    "### Explain with your own words what the code below containing two scenarios does. "
   ]
  },
  {
   "cell_type": "code",
   "execution_count": 17,
   "id": "9cd720b9",
   "metadata": {},
   "outputs": [
    {
     "name": "stdout",
     "output_type": "stream",
     "text": [
      "2\n",
      "4\n",
      "8\n",
      "16\n",
      "\n",
      "(3, 9, 27, 81)\n",
      "Scenario 1: Unpacks the tuple into multiple variables. Scenario 2: Stores the whole tuple in one variable.\n"
     ]
    }
   ],
   "source": [
    "def f(x): \n",
    "    return (x, x**2, x**3, x**4)\n",
    "\n",
    "# Scenario 1.\n",
    "x1, x2, x3, x4 = f(2)\n",
    "print(x1)\n",
    "print(x2)\n",
    "print(x3)\n",
    "print(x4)\n",
    "\n",
    "print()\n",
    "\n",
    "# Scenario 2.\n",
    "x = f(3)\n",
    "print(x)\n",
    "\n",
    "print('Scenario 1: Unpacks the tuple into multiple variables. Scenario 2: Stores the whole tuple in one variable.')"
   ]
  },
  {
   "cell_type": "markdown",
   "id": "a1d0ad8c",
   "metadata": {},
   "source": [
    "### Count the number of times 24 occurs in the tupple. "
   ]
  },
  {
   "cell_type": "code",
   "execution_count": null,
   "id": "da5e6047",
   "metadata": {},
   "outputs": [],
   "source": [
    "tuple_22 = 24, 2, 4, 24, 24, 5"
   ]
  },
  {
   "cell_type": "code",
   "execution_count": 19,
   "id": "818a5471",
   "metadata": {},
   "outputs": [
    {
     "name": "stdout",
     "output_type": "stream",
     "text": [
      "3\n"
     ]
    }
   ],
   "source": [
    "tuple_22 = 24, 2, 4, 24, 24, 5\n",
    "\n",
    "count_24 = tuple_22.count(24)\n",
    "\n",
    "print(count_24)"
   ]
  },
  {
   "cell_type": "markdown",
   "id": "02b90433",
   "metadata": {},
   "source": [
    "### Swap the two tuples, i.e. t1 should be replaced by t2 and vice versa. "
   ]
  },
  {
   "cell_type": "code",
   "execution_count": null,
   "id": "d0bf409a",
   "metadata": {},
   "outputs": [],
   "source": [
    "t1 = ('Python', 'MATLAB')\n",
    "t2 = ('R', 'Julia')"
   ]
  },
  {
   "cell_type": "code",
   "execution_count": 20,
   "id": "54e7301b",
   "metadata": {},
   "outputs": [
    {
     "name": "stdout",
     "output_type": "stream",
     "text": [
      "t1: ('R', 'Julia')\n",
      "t2: ('Python', 'MATLAB')\n"
     ]
    }
   ],
   "source": [
    "t1 = ('Python', 'MATLAB')\n",
    "t2 = ('R', 'Julia')\n",
    "\n",
    "t1, t2 = t2, t1\n",
    "\n",
    "print(\"t1:\", t1)\n",
    "print(\"t2:\", t2)\n"
   ]
  },
  {
   "cell_type": "markdown",
   "id": "f44bc333",
   "metadata": {},
   "source": [
    "# Dictionaries"
   ]
  },
  {
   "cell_type": "markdown",
   "id": "c59f5a5a",
   "metadata": {},
   "source": [
    "### We have two lists, use both of them to convert it to a dictionary. l1 should be the keys whereas l2 should be the values. Hint, use the zip function. "
   ]
  },
  {
   "cell_type": "code",
   "execution_count": null,
   "id": "c22949bc",
   "metadata": {},
   "outputs": [],
   "source": [
    "l1 = [1, 2, 3]\n",
    "l2 = ['Python', 'C++', 'Java']"
   ]
  },
  {
   "cell_type": "code",
   "execution_count": 21,
   "id": "d32b1d97",
   "metadata": {},
   "outputs": [
    {
     "name": "stdout",
     "output_type": "stream",
     "text": [
      "{1: 'Python', 2: 'C++', 3: 'Java'}\n"
     ]
    }
   ],
   "source": [
    "l1 = [1, 2, 3]\n",
    "l2 = ['Python', 'C++', 'Java']\n",
    "\n",
    "# Use zip to combine the lists and convert to a dictionary\n",
    "my_dict = dict(zip(l1, l2))\n",
    "\n",
    "print(my_dict)"
   ]
  },
  {
   "cell_type": "markdown",
   "id": "08c24361",
   "metadata": {},
   "source": [
    "### Print out the value corresponding to the key \"1\"."
   ]
  },
  {
   "cell_type": "code",
   "execution_count": null,
   "id": "64ed0f46",
   "metadata": {},
   "outputs": [],
   "source": [
    "dictionary = {0: 'Easy', 1: 'as', 2: 'ABC'}"
   ]
  },
  {
   "cell_type": "code",
   "execution_count": 22,
   "id": "283ece07",
   "metadata": {},
   "outputs": [
    {
     "name": "stdout",
     "output_type": "stream",
     "text": [
      "as\n"
     ]
    }
   ],
   "source": [
    "dictionary = {0: 'Easy', 1: 'as', 2: 'ABC'}\n",
    "\n",
    "print(dictionary[1])\n"
   ]
  },
  {
   "cell_type": "markdown",
   "id": "49657a9e",
   "metadata": {},
   "source": [
    "### Explain with your own words what the code does. "
   ]
  },
  {
   "cell_type": "code",
   "execution_count": 23,
   "id": "b31f3461",
   "metadata": {},
   "outputs": [],
   "source": [
    "def y(x):\n",
    "  y0 = x\n",
    "  y1 = x**2\n",
    "  y2 = x**3\n",
    "\n",
    "  return {'y0': y0, 'y1': y1 ,'y2': y2}"
   ]
  },
  {
   "cell_type": "code",
   "execution_count": null,
   "id": "16e62182",
   "metadata": {},
   "outputs": [],
   "source": [
    "y(2)['y1']\n",
    "Funktionen tar ett tal x och returnerar en ordbok med tre nycklar ('y0', 'y1', 'y2') som motsvarar x, x**2 och x**3."
   ]
  },
  {
   "cell_type": "markdown",
   "id": "018b60ac",
   "metadata": {},
   "source": [
    "# Sets"
   ]
  },
  {
   "cell_type": "markdown",
   "id": "e2b2b51c",
   "metadata": {},
   "source": [
    "### Create a set named my_set containing the items: Python, R, MATLAB, Julia, SAS, C.  "
   ]
  },
  {
   "cell_type": "code",
   "execution_count": 24,
   "id": "79a04e2a",
   "metadata": {},
   "outputs": [
    {
     "name": "stdout",
     "output_type": "stream",
     "text": [
      "{'MATLAB', 'R', 'C', 'Julia', 'Python', 'SAS'}\n"
     ]
    }
   ],
   "source": [
    "my_set = {\"Python\", \"R\", \"MATLAB\", \"Julia\", \"SAS\", \"C\"}\n",
    "\n",
    "print(my_set)"
   ]
  },
  {
   "cell_type": "markdown",
   "id": "4b22140b",
   "metadata": {},
   "source": [
    "### Find all elements that are in atleast one of the sets. "
   ]
  },
  {
   "cell_type": "code",
   "execution_count": null,
   "id": "59a5c7ef",
   "metadata": {},
   "outputs": [],
   "source": [
    "set_a = {1, 2, 99}\n",
    "set_b = {0, 100, 15, 765}"
   ]
  },
  {
   "cell_type": "code",
   "execution_count": 25,
   "id": "cb6f8df0",
   "metadata": {},
   "outputs": [
    {
     "name": "stdout",
     "output_type": "stream",
     "text": [
      "{0, 1, 2, 99, 100, 765, 15}\n"
     ]
    }
   ],
   "source": [
    "set_a = {1, 2, 99}\n",
    "set_b = {0, 100, 15, 765}\n",
    "\n",
    "result = set_a | set_b\n",
    "\n",
    "print(result)\n"
   ]
  },
  {
   "cell_type": "markdown",
   "id": "a7b6740f",
   "metadata": {},
   "source": [
    "### Find all the items that are in *both* lists and return those values in a list. "
   ]
  },
  {
   "cell_type": "code",
   "execution_count": null,
   "id": "9a81165c",
   "metadata": {},
   "outputs": [],
   "source": [
    "l1 = ['Python', 'R', 'MATLAB', 'Julia']\n",
    "l2 = ['Python', 'Julia']"
   ]
  },
  {
   "cell_type": "code",
   "execution_count": null,
   "id": "555feeef",
   "metadata": {},
   "outputs": [
    {
     "name": "stdout",
     "output_type": "stream",
     "text": [
      "['Python', 'Julia']\n"
     ]
    }
   ],
   "source": [
    "l1 = ['Python', 'R', 'MATLAB', 'Julia']\n",
    "l2 = ['Python', 'Julia']\n",
    "\n",
    "common_items = [item for item in l1 if item in l2]\n",
    "\n",
    "print(common_items)\n"
   ]
  },
  {
   "cell_type": "markdown",
   "id": "8a79680b",
   "metadata": {},
   "source": [
    "### Find all the unique elements of the list. "
   ]
  },
  {
   "cell_type": "code",
   "execution_count": null,
   "id": "b3564d41",
   "metadata": {},
   "outputs": [],
   "source": [
    "l = [1, 1, 2, 2, 3, 1, 2]"
   ]
  },
  {
   "cell_type": "code",
   "execution_count": 27,
   "id": "ed1ef5e2",
   "metadata": {},
   "outputs": [
    {
     "name": "stdout",
     "output_type": "stream",
     "text": [
      "[1, 2, 3]\n"
     ]
    }
   ],
   "source": [
    "l = [1, 1, 2, 2, 3, 1, 2]\n",
    "\n",
    "unique_elements = list(set(l))\n",
    "\n",
    "print(unique_elements)"
   ]
  },
  {
   "cell_type": "markdown",
   "id": "68969341",
   "metadata": {},
   "source": [
    "### Find all the elements that are in set_1 but not in set_2."
   ]
  },
  {
   "cell_type": "code",
   "execution_count": null,
   "id": "4e1d29c9",
   "metadata": {},
   "outputs": [],
   "source": [
    "set_1 = {1, 2, 3, 4, 5, 6}\n",
    "set_2 = set([1, 3, 4])"
   ]
  },
  {
   "cell_type": "code",
   "execution_count": 29,
   "id": "c62d1c2d",
   "metadata": {},
   "outputs": [
    {
     "name": "stdout",
     "output_type": "stream",
     "text": [
      "{2, 5, 6}\n"
     ]
    }
   ],
   "source": [
    "set_1 = {1, 2, 3, 4, 5, 6}\n",
    "set_2 = set([1, 3, 4])\n",
    "\n",
    "result = set_1 - set_2\n",
    "print(result)"
   ]
  },
  {
   "cell_type": "markdown",
   "id": "38863120",
   "metadata": {},
   "source": [
    "# Iteration & Loops"
   ]
  },
  {
   "cell_type": "markdown",
   "id": "8e6bf0e5",
   "metadata": {},
   "source": [
    "### Print out all the elements in the list \"looping_list\" with a for loop."
   ]
  },
  {
   "cell_type": "code",
   "execution_count": null,
   "id": "69039249",
   "metadata": {},
   "outputs": [],
   "source": [
    "looping_list = [0, 'a', 'b', [1, 2, 3], ('Python', 'R'), 55]"
   ]
  },
  {
   "cell_type": "code",
   "execution_count": 31,
   "id": "2e0c7dec",
   "metadata": {},
   "outputs": [
    {
     "name": "stdout",
     "output_type": "stream",
     "text": [
      "0\n",
      "a\n",
      "b\n",
      "[1, 2, 3]\n",
      "('Python', 'R')\n",
      "55\n"
     ]
    }
   ],
   "source": [
    "looping_list = [0, 'a', 'b', [1, 2, 3], ('Python', 'R'), 55]\n",
    "for item in looping_list:\n",
    "    print(item)"
   ]
  },
  {
   "cell_type": "markdown",
   "id": "f58c2b64",
   "metadata": {},
   "source": [
    "### Print out all the elements in the list \"looping_list\" and enumerate the iteration number."
   ]
  },
  {
   "cell_type": "code",
   "execution_count": null,
   "id": "cb4b490c",
   "metadata": {},
   "outputs": [],
   "source": [
    "looping_list = [0, 'a', 'b', [1, 2, 3], ('Python', 'R'), 55]"
   ]
  },
  {
   "cell_type": "code",
   "execution_count": 32,
   "id": "b401f949",
   "metadata": {},
   "outputs": [
    {
     "name": "stdout",
     "output_type": "stream",
     "text": [
      "Index 0: 0\n",
      "Index 1: a\n",
      "Index 2: b\n",
      "Index 3: [1, 2, 3]\n",
      "Index 4: ('Python', 'R')\n",
      "Index 5: 55\n"
     ]
    }
   ],
   "source": [
    "looping_list = [0, 'a', 'b', [1, 2, 3], ('Python', 'R'), 55]\n",
    "for index, item in enumerate(looping_list):\n",
    "    print(f\"Index {index}: {item}\")"
   ]
  },
  {
   "cell_type": "markdown",
   "id": "296e1f3a",
   "metadata": {},
   "source": [
    "### Write a for loop to print out each letter in the string. "
   ]
  },
  {
   "cell_type": "code",
   "execution_count": null,
   "id": "e3aae8b8",
   "metadata": {},
   "outputs": [],
   "source": [
    "for_string = 'Python!'"
   ]
  },
  {
   "cell_type": "code",
   "execution_count": 33,
   "id": "339911b9",
   "metadata": {},
   "outputs": [
    {
     "name": "stdout",
     "output_type": "stream",
     "text": [
      "P\n",
      "y\n",
      "t\n",
      "h\n",
      "o\n",
      "n\n",
      "!\n"
     ]
    }
   ],
   "source": [
    "for_string = 'Python!'\n",
    "\n",
    "for letter in for_string:\n",
    "    print(letter)"
   ]
  },
  {
   "cell_type": "markdown",
   "id": "68a29b13",
   "metadata": {},
   "source": [
    "### Write a while loop to print out each letter in the string. "
   ]
  },
  {
   "cell_type": "code",
   "execution_count": null,
   "id": "0fe72c4d",
   "metadata": {},
   "outputs": [],
   "source": [
    "while_string = 'Is Awesome!'"
   ]
  },
  {
   "cell_type": "code",
   "execution_count": 34,
   "id": "8cf73954",
   "metadata": {},
   "outputs": [
    {
     "name": "stdout",
     "output_type": "stream",
     "text": [
      "I\n",
      "s\n",
      " \n",
      "A\n",
      "w\n",
      "e\n",
      "s\n",
      "o\n",
      "m\n",
      "e\n",
      "!\n"
     ]
    }
   ],
   "source": [
    "while_string = 'Is Awesome!'\n",
    "\n",
    "index = 0\n",
    "\n",
    "while index < len(while_string):\n",
    "    print(while_string[index])\n",
    "    index += 1"
   ]
  },
  {
   "cell_type": "markdown",
   "id": "84f69821",
   "metadata": {},
   "source": [
    "### Print the numbers 1, 2, ..., 10 with a while loop. "
   ]
  },
  {
   "cell_type": "code",
   "execution_count": 35,
   "id": "b26edc56",
   "metadata": {},
   "outputs": [
    {
     "name": "stdout",
     "output_type": "stream",
     "text": [
      "1\n",
      "2\n",
      "3\n",
      "4\n",
      "5\n",
      "6\n",
      "7\n",
      "8\n",
      "9\n",
      "10\n"
     ]
    }
   ],
   "source": [
    "num = 1\n",
    "\n",
    "while num <= 10:\n",
    "    print(num)\n",
    "    num += 1"
   ]
  },
  {
   "cell_type": "markdown",
   "id": "38122cd9",
   "metadata": {},
   "source": [
    "### Print out all numbers that are divisible by 5 in the list \"numbers\". \n",
    "Hint: Use the modulo operator %. A number is divisible by 5 if the remainder after dividing by 5 is 0. "
   ]
  },
  {
   "cell_type": "code",
   "execution_count": null,
   "id": "4a77126f",
   "metadata": {},
   "outputs": [],
   "source": [
    "numbers = [10, 20, 34, 46, 55]"
   ]
  },
  {
   "cell_type": "code",
   "execution_count": 36,
   "id": "63913f9b",
   "metadata": {},
   "outputs": [
    {
     "name": "stdout",
     "output_type": "stream",
     "text": [
      "10\n",
      "20\n",
      "55\n"
     ]
    }
   ],
   "source": [
    "numbers = [10, 20, 34, 46, 55]\n",
    "\n",
    "for num in numbers:\n",
    "    if num % 5 == 0:\n",
    "        print(num)"
   ]
  },
  {
   "cell_type": "markdown",
   "id": "097e4726",
   "metadata": {},
   "source": [
    "### Print the numbers 0, 5, 10, 15, 20 with a for-loop and using the range function."
   ]
  },
  {
   "cell_type": "code",
   "execution_count": 37,
   "id": "e6730d54",
   "metadata": {},
   "outputs": [
    {
     "name": "stdout",
     "output_type": "stream",
     "text": [
      "0\n",
      "5\n",
      "10\n",
      "15\n",
      "20\n"
     ]
    }
   ],
   "source": [
    "for num in range(0, 21, 5):\n",
    "    print(num)"
   ]
  },
  {
   "cell_type": "markdown",
   "id": "fe281ab3",
   "metadata": {},
   "source": [
    "### Use a for loop to create a new list from list_example, where each number is mulitplied by 10. You should only include the numbers between 4-8 where 4 and 8 is included. (In general it is better to do this with list comprehension since it is more efficient but this is for exercise purpose.)"
   ]
  },
  {
   "cell_type": "code",
   "execution_count": null,
   "id": "12303023",
   "metadata": {},
   "outputs": [],
   "source": [
    "    list_example = [1, 2, 3, 4, 5, 6, 7, 8, 9, 10]"
   ]
  },
  {
   "cell_type": "code",
   "execution_count": null,
   "id": "6b1360d5",
   "metadata": {},
   "outputs": [
    {
     "name": "stdout",
     "output_type": "stream",
     "text": [
      "[40, 50, 60, 70, 80]\n"
     ]
    }
   ],
   "source": [
    "list_example = [1, 2, 3, 4, 5, 6, 7, 8, 9, 10]\n",
    "\n",
    "new_list = []\n",
    "for num in list_example:\n",
    "    if 4 <= num <= 8:\n",
    "        new_list.append(num * 10)\n",
    "\n",
    "print(new_list)"
   ]
  },
  {
   "cell_type": "markdown",
   "id": "73fc584a",
   "metadata": {},
   "source": [
    "# Functions"
   ]
  },
  {
   "cell_type": "markdown",
   "id": "63236e09",
   "metadata": {},
   "source": [
    "### Create a function \"uppercase_converter\" that converts a string to uppercase. For example: uppercase_converter('hello') should return the value HELLO. "
   ]
  },
  {
   "cell_type": "code",
   "execution_count": 39,
   "id": "fa434d45",
   "metadata": {},
   "outputs": [
    {
     "name": "stdout",
     "output_type": "stream",
     "text": [
      "HELLO\n"
     ]
    }
   ],
   "source": [
    "def uppercase_converter(input_string):\n",
    "    return input_string.upper()\n",
    "\n",
    "result = uppercase_converter('hello')\n",
    "print(result)"
   ]
  },
  {
   "cell_type": "markdown",
   "id": "9103f538",
   "metadata": {},
   "source": [
    "### Create a function that accepts two arguments and that returns the sum and subtraction of the numbers. "
   ]
  },
  {
   "cell_type": "code",
   "execution_count": 40,
   "id": "6475dc5a",
   "metadata": {},
   "outputs": [
    {
     "name": "stdout",
     "output_type": "stream",
     "text": [
      "Sum: 15\n",
      "Subtraction: 5\n"
     ]
    }
   ],
   "source": [
    "def sum_and_subtract(num1, num2):\n",
    "    return num1 + num2, num1 - num2\n",
    "\n",
    "\n",
    "result = sum_and_subtract(10, 5)\n",
    "print(\"Sum:\", result[0])\n",
    "print(\"Subtraction:\", result[1])"
   ]
  },
  {
   "cell_type": "markdown",
   "id": "18c3c48a",
   "metadata": {},
   "source": [
    "### Create  a function that contains positional only, positional or keyword and finally keyword arguments only. Hint:\n",
    "**def f(pos_only_1, /, pos_or_kwd, *, kwd_only_1)** ."
   ]
  },
  {
   "cell_type": "code",
   "execution_count": 41,
   "id": "d0d75159",
   "metadata": {},
   "outputs": [
    {
     "name": "stdout",
     "output_type": "stream",
     "text": [
      "Positional only argument: 1\n",
      "Positional or keyword argument: 2\n",
      "Keyword only argument: Hello\n"
     ]
    }
   ],
   "source": [
    "def f(pos_only_1, /, pos_or_kwd, *, kwd_only_1):\n",
    "    print(f\"Positional only argument: {pos_only_1}\")\n",
    "    print(f\"Positional or keyword argument: {pos_or_kwd}\")\n",
    "    print(f\"Keyword only argument: {kwd_only_1}\")\n",
    "\n",
    "\n",
    "f(1, 2, kwd_only_1=\"Hello\")"
   ]
  },
  {
   "cell_type": "markdown",
   "id": "a677a3a7",
   "metadata": {},
   "source": [
    "### Assign a different name to the function and call it through the new name."
   ]
  },
  {
   "cell_type": "code",
   "execution_count": null,
   "id": "c3538cea",
   "metadata": {},
   "outputs": [],
   "source": [
    "def my_sum_function(x1, x2):\n",
    "    return x1 + x2\n",
    "\n",
    "my_sum_function(1,2)"
   ]
  },
  {
   "cell_type": "code",
   "execution_count": 42,
   "id": "cf8d1c0d",
   "metadata": {},
   "outputs": [
    {
     "name": "stdout",
     "output_type": "stream",
     "text": [
      "3\n"
     ]
    }
   ],
   "source": [
    "def my_sum_function(x1, x2):\n",
    "    return x1 + x2\n",
    "\n",
    "new_name = my_sum_function\n",
    "\n",
    "result = new_name(1, 2)\n",
    "print(result)\n"
   ]
  },
  {
   "cell_type": "markdown",
   "id": "12e8be7b",
   "metadata": {},
   "source": [
    "### Write a function f that takes three arguments. The first two are numbers whereas the third is specifying wheter you want to multiply or add them. \n",
    "Example: \n",
    "\n",
    "f(2, 5, 'add') = 7\n",
    "\n",
    "f(2, 5, 'multiply') = 10\n",
    "\n",
    "f(2, 5, 'test') should return an error (raise an exception) and print out the message: Choose either \"add\" or \"multiply\" ."
   ]
  },
  {
   "cell_type": "code",
   "execution_count": 43,
   "id": "8ef8102e",
   "metadata": {},
   "outputs": [
    {
     "name": "stdout",
     "output_type": "stream",
     "text": [
      "7\n",
      "10\n",
      "Choose either \"add\" or \"multiply\"\n"
     ]
    }
   ],
   "source": [
    "def f(num1, num2, operation):\n",
    "    if operation == 'add':\n",
    "        return num1 + num2\n",
    "    elif operation == 'multiply':\n",
    "        return num1 * num2\n",
    "    else:\n",
    "        raise ValueError('Choose either \"add\" or \"multiply\"')\n",
    "\n",
    "print(f(2, 5, 'add'))\n",
    "print(f(2, 5, 'multiply'))\n",
    "\n",
    "try:\n",
    "    print(f(2, 5, 'test'))\n",
    "except ValueError as e:\n",
    "    print(e)\n"
   ]
  },
  {
   "cell_type": "markdown",
   "id": "76c1765f",
   "metadata": {},
   "source": [
    "### Find all the items that are in *both* lists and return those values in a list. "
   ]
  },
  {
   "cell_type": "markdown",
   "id": "5dc23d6b",
   "metadata": {},
   "source": [
    "### Run the program below and explain what it does."
   ]
  },
  {
   "cell_type": "code",
   "execution_count": 46,
   "id": "e0588bd9",
   "metadata": {},
   "outputs": [
    {
     "name": "stdout",
     "output_type": "stream",
     "text": [
      "Mom, I met a person whos name is: Alice\n"
     ]
    }
   ],
   "source": [
    "name = input('What is your name dear stranger?')\n",
    "\n",
    "print('Mom, I met a person whos name is:', name)"
   ]
  },
  {
   "cell_type": "code",
   "execution_count": null,
   "id": "163c39f6",
   "metadata": {},
   "outputs": [
    {
     "name": "stdout",
     "output_type": "stream",
     "text": [
      "Object `Stranger` not found.\n"
     ]
    }
   ],
   "source": [
    "Den ställer frågan: What is your name Stranger?\n",
    "och man svarar med ett Namn eller något.\n",
    "Sedan får man en response: Mom, i met a person whos name is: Alice\n",
    "\n",
    "Vilket menar att personen möter en person som heter \"Alice\" och under en senare tid så möter han sin mamma som han säger att han träffade en person som heter \"Alice\".\n",
    "\n",
    "Det finns typo i whos: \"whos\" borde vara \"whose\"."
   ]
  },
  {
   "cell_type": "markdown",
   "id": "7d7d35c1",
   "metadata": {},
   "source": [
    "# General Exercises"
   ]
  },
  {
   "cell_type": "markdown",
   "id": "d8cdd732",
   "metadata": {},
   "source": [
    "### Check if the strings below is a palindrome meaning that if you reverse the string it is the same. \n",
    "Example: anna reversed is still anna meaning it is a palindrome. john reversed is nhoj meaning it is not a palindrome. "
   ]
  },
  {
   "cell_type": "code",
   "execution_count": null,
   "id": "53b6d2bb",
   "metadata": {},
   "outputs": [],
   "source": [
    "string_1 = 'anna'\n",
    "string_2 = 'john'"
   ]
  },
  {
   "cell_type": "code",
   "execution_count": 48,
   "id": "b6c1e2a4",
   "metadata": {},
   "outputs": [
    {
     "name": "stdout",
     "output_type": "stream",
     "text": [
      "anna is a palindrome: True\n",
      "john is a palindrome: False\n"
     ]
    }
   ],
   "source": [
    "def is_palindrome(s):\n",
    "    return s == s[::-1]\n",
    "\n",
    "string_1 = 'anna'\n",
    "string_2 = 'john'\n",
    "\n",
    "print(f\"{string_1} is a palindrome: {is_palindrome(string_1)}\")\n",
    "print(f\"{string_2} is a palindrome: {is_palindrome(string_2)}\")"
   ]
  },
  {
   "cell_type": "markdown",
   "id": "d8b71cd7",
   "metadata": {},
   "source": [
    "### Explain, with your own words, the difference between the two code blocks below. When would you prefer the respective method? Can you create two own examples when each method might be useful?\n",
    "A good link: https://stackoverflow.com/questions/9271712/difference-between-multiple-ifs-and-elifs ."
   ]
  },
  {
   "cell_type": "code",
   "execution_count": null,
   "id": "1fe19154",
   "metadata": {},
   "outputs": [],
   "source": [
    "number = 8"
   ]
  },
  {
   "cell_type": "code",
   "execution_count": null,
   "id": "54b25f3b",
   "metadata": {},
   "outputs": [],
   "source": [
    "if number < 5:\n",
    "    print('Less than 5')\n",
    "if number < 10:\n",
    "    print('Less than 10')\n",
    "if number < 100:\n",
    "    print('Less than 100')"
   ]
  },
  {
   "cell_type": "code",
   "execution_count": null,
   "id": "57e56cef",
   "metadata": {},
   "outputs": [],
   "source": [
    "if number < 5:\n",
    "    print('Less than 5')\n",
    "elif number < 10:\n",
    "    print('Less than 10')\n",
    "elif number < 100:\n",
    "    print('Less than 100')"
   ]
  },
  {
   "cell_type": "code",
   "execution_count": null,
   "id": "22a9be99",
   "metadata": {},
   "outputs": [],
   "source": [
    "Använd if-satser när du vill kontrollera flera villkor oberoende av varandra och låta flera block köra om villkoren är sanna.\n",
    "\n",
    "Använd if-elif-kedjan när villkoren är ömsesidigt uteslutande och du vill att endast ett block körs, vilket sparar på beräkningarna.\n",
    "\n",
    "age = 25\n",
    "if age < 18:\n",
    "    print(\"Minor\")\n",
    "if age < 30:\n",
    "    print(\"Young Adult\")\n",
    "if age < 60:\n",
    "    print(\"Adult\")\n",
    "\n",
    "temperature = 35\n",
    "if temperature < 0:\n",
    "    print(\"Freezing\")\n",
    "elif temperature < 20:\n",
    "    print(\"Cold\")\n",
    "elif temperature < 40:\n",
    "    print(\"Warm\")"
   ]
  }
 ],
 "metadata": {
  "kernelspec": {
   "display_name": "Python 3",
   "language": "python",
   "name": "python3"
  },
  "language_info": {
   "codemirror_mode": {
    "name": "ipython",
    "version": 3
   },
   "file_extension": ".py",
   "mimetype": "text/x-python",
   "name": "python",
   "nbconvert_exporter": "python",
   "pygments_lexer": "ipython3",
   "version": "3.12.9"
  }
 },
 "nbformat": 4,
 "nbformat_minor": 5
}
