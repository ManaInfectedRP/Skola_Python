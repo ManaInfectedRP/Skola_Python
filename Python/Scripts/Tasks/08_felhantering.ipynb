{
 "cells": [
  {
   "cell_type": "markdown",
   "id": "975615f5-e018-4d02-a7f2-761d1ebf8517",
   "metadata": {},
   "source": [
    "# Uppgifter, Kapitel 8 - Felhantering"
   ]
  },
  {
   "cell_type": "markdown",
   "id": "c9b652d0-5240-494e-bf22-d71a49a46a01",
   "metadata": {},
   "source": [
    "1. Din kollega Johanna frågar dig:\n",
    "   \n",
    "   a) Vad är syntax errors?\n",
    "   \n",
    "   b) Varför skulle man vilja \"fånga exceptions\" i ett program och inte bara låta programmet stanna vid fel?\n",
    "   \n",
    "   c) Varför skulle man vilja \"lyfta exceptions\" i ett program? "
   ]
  },
  {
   "cell_type": "code",
   "execution_count": null,
   "id": "083ab699-4d1c-41c2-966b-4564646232ef",
   "metadata": {},
   "outputs": [],
   "source": [
    "A: Syntaxfel uppstår när Python inte förstår koden för att den är skriven på fel sätt – ungefär som grammatikfel i ett språk.\n",
    "Det kan vara en saknad parentes, felstavade ord eller felaktig indragning.\n",
    "Exempel: \n",
    "print(\"Hej\"   # SyntaxError: saknar slutparentes\n",
    "               \n",
    "B: För att undvika att hela programmet kraschar och istället kunna hantera felet på ett kontrollerat sätt. Det gör programmet mer robust och användarvänligt.\n",
    "\n",
    "C: Att \"lyfta\" (raise) ett undantag används när du själv vill signalera att något är fel – till exempel om någon anropar en funktion på fel sätt eller skickar ogiltiga data.\n",
    " Det gör programmet tydligare och säkrare."
   ]
  },
  {
   "cell_type": "markdown",
   "id": "e48a5bb4-22b3-4c97-8c0e-a1ffcc636be8",
   "metadata": {},
   "source": [
    "2. a) Förklara vad nedanstående kod gör.\n",
    "\n",
    "   b) Generellt sett, vad är poängen med att använda \"else\"?  "
   ]
  },
  {
   "cell_type": "code",
   "execution_count": null,
   "id": "dd222cc8-183d-4f33-808d-2c6e996903d0",
   "metadata": {},
   "outputs": [],
   "source": [
    "def convert_string_to_int(string):\n",
    "    try:\n",
    "        int(string)\n",
    "    except ValueError:\n",
    "        return \"Invalid input, cannot convert to integer.\"\n",
    "    else:\n",
    "        return int(string)\n",
    "\n",
    "print(convert_string_to_int(\"314\")) \n",
    "print(convert_string_to_int(\"abc\"))  "
   ]
  },
  {
   "cell_type": "code",
   "execution_count": null,
   "id": "dee5888c-e288-4da9-895e-3d33690aec4d",
   "metadata": {},
   "outputs": [],
   "source": [
    "A: Vad händer steg för steg:\n",
    "Funktionen convert_string_to_int försöker konvertera en sträng till ett heltal med int(string) i en try-block.\n",
    "Om konverteringen misslyckas (t.ex. om man skriver \"abc\"), fångas felet (ValueError) i except-blocket, och funktionen returnerar ett felmeddelande.\n",
    "Om konverteringen lyckas (som med \"314\"), körs else-blocket och funktionen returnerar heltalet.\n",
    "\n",
    "B: \n",
    "else körs endast om inget undantag uppstår i try-blocket. Det används för att separera normal kod från felhantering.\n",
    "I det här fallet:\n",
    "try testar om int(string) fungerar.\n",
    "except hanterar om det blir fel.\n",
    "else kör om det inte blev fel – alltså en ren och tydlig struktur.\n",
    "\n"
   ]
  },
  {
   "cell_type": "markdown",
   "id": "184b8227-4840-4f2f-8f10-f4045f3ffc9b",
   "metadata": {},
   "source": [
    "3. Skriv ett kodexempel där du fångar en exception. Endast din kreativitet sätter gränser. "
   ]
  },
  {
   "cell_type": "code",
   "execution_count": null,
   "id": "d66f40d0-e5bc-4dfa-be57-6806c06a15b0",
   "metadata": {},
   "outputs": [],
   "source": [
    "def baka_kaka(ingredienser):\n",
    "    try:\n",
    "        if \"mjöl\" not in ingredienser:\n",
    "            raise ValueError(\"Du måste ha mjöl för att baka en kaka!\")\n",
    "        if \"socker\" not in ingredienser:\n",
    "            raise ValueError(\"Socker saknas – ingen söt kaka!\")\n",
    "        print(\"Kakan gräddas... 🍰\")\n",
    "    except ValueError as fel:\n",
    "        print(f\"Fel: {fel}\")\n",
    "    else:\n",
    "        print(\"Kakan blev perfekt! 😋\")\n",
    "\n",
    "# Testfall 1 – utan mjöl\n",
    "baka_kaka([\"ägg\", \"smör\", \"socker\"])\n",
    "\n",
    "# Testfall 2 – med allt\n",
    "baka_kaka([\"mjöl\", \"ägg\", \"socker\", \"smör\"])\n",
    "\n",
    "# Fel: Du måste ha mjöl för att baka en kaka!\n",
    "# Kakan gräddas... 🍰\n",
    "# Kakan blev perfekt! 😋\n"
   ]
  },
  {
   "cell_type": "markdown",
   "id": "069b6e31-8faa-4550-9cb6-5300c6129167",
   "metadata": {},
   "source": [
    "4. Skapa en funktion \"add_two_small_numbers\" som adderar två tal. Om något av talen är större än 100 så skall du lyfta en exception och skriva ut meddelandet \"both numbers must be smaller than or equal to 100\". "
   ]
  },
  {
   "cell_type": "code",
   "execution_count": null,
   "id": "1d61210b-b661-46f7-ba28-6da36d56af50",
   "metadata": {},
   "outputs": [],
   "source": [
    "def add_two_small_numbers(a, b):\n",
    "    if a > 100 or b > 100:\n",
    "        raise ValueError(\"both numbers must be smaller than or equal to 100\")\n",
    "    return a + b\n",
    "\n",
    "# Exempel på användning\n",
    "try:\n",
    "    print(add_two_small_numbers(45, 30))     # OK: 75\n",
    "    print(add_two_small_numbers(150, 10))    # Fel: ValueError\n",
    "except ValueError as e:\n",
    "    print(f\"Fel: {e}\")\n"
   ]
  },
  {
   "cell_type": "markdown",
   "id": "6b852c0d-dd8b-4baa-8ce5-7d756b45e226",
   "metadata": {},
   "source": [
    "5. Din kollega, som är en skicklig programmerare, brukar innan hon försöker göra ett perfekt fungerande program testa olika ideér för att undersöka och lära sig mer om det problem hon försöker lösa. Nedan ser du ett av hennes skript som gjorts i syfte att undersöka och lära sig mer. Förklara vad det är hon gjort. "
   ]
  },
  {
   "cell_type": "code",
   "execution_count": null,
   "id": "b8136f69-af5b-4951-a185-fb73eb5e2e8a",
   "metadata": {},
   "outputs": [],
   "source": [
    "# Checking which exception is raised\n",
    "try:\n",
    "    5 + \"Python is fun!\"\n",
    "except Exception as exception_instance:\n",
    "    print(type(exception_instance))\n",
    "    print(exception_instance)"
   ]
  },
  {
   "cell_type": "code",
   "execution_count": null,
   "id": "c5f5d5f5-4503-4e71-9b90-e97cc1205bae",
   "metadata": {},
   "outputs": [],
   "source": [
    "# Checking which exception is raised\n",
    "try:\n",
    "    5/0\n",
    "except Exception as exception_instance:\n",
    "    print(type(exception_instance))\n",
    "    print(exception_instance)"
   ]
  },
  {
   "cell_type": "code",
   "execution_count": null,
   "id": "31c642ee-60af-42cb-9658-5a5752782ed6",
   "metadata": {},
   "outputs": [],
   "source": [
    "def add_two_numbers(a, b):\n",
    "    try:\n",
    "        return(a/b)\n",
    "    except TypeError:\n",
    "        print(\"Both arguments must be numbers.\")\n",
    "    except ZeroDivisionError:\n",
    "        print(\"Division by zero is not defined.\")        "
   ]
  },
  {
   "cell_type": "code",
   "execution_count": null,
   "id": "d4f76310-41bb-4f99-9ed8-e5eacef3cfe4",
   "metadata": {},
   "outputs": [],
   "source": [
    "# Testing so the functionality is as expected\n",
    "print(add_two_numbers(5, 2))\n",
    "print(add_two_numbers(5, \"hello\"))\n",
    "print(add_two_numbers(5, 0))"
   ]
  },
  {
   "cell_type": "code",
   "execution_count": null,
   "id": "b401f0f3-f93f-43bd-ad29-2fa080338002",
   "metadata": {},
   "outputs": [],
   "source": [
    "Undersökt olika typer av undantag: Hon har testat att fånga både TypeError (fel typ av argument) och ZeroDivisionError (division med noll), samt undersökt resultatet av dessa fel.\n",
    "Testat hur man kan fånga undantag och hantera dem på ett kontrollerat sätt med hjälp av specifika except-block för att ge tydliga och informativa felmeddelanden till användaren.\n",
    "Skapat en funktion som använder exception handling för att ge användaren feedback om felaktig användning av funktionen (t.ex. felaktiga argument)."
   ]
  }
 ],
 "metadata": {
  "kernelspec": {
   "display_name": "Python 3 (ipykernel)",
   "language": "python",
   "name": "python3"
  },
  "language_info": {
   "codemirror_mode": {
    "name": "ipython",
    "version": 3
   },
   "file_extension": ".py",
   "mimetype": "text/x-python",
   "name": "python",
   "nbconvert_exporter": "python",
   "pygments_lexer": "ipython3",
   "version": "3.9.18"
  }
 },
 "nbformat": 4,
 "nbformat_minor": 5
}
