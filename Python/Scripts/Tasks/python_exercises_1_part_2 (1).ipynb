{
 "cells": [
  {
   "cell_type": "markdown",
   "id": "22bd630d",
   "metadata": {},
   "source": [
    "# Python exercises 1 part 2/2\n",
    "The exercises are connected to the video available at: https://www.youtube.com/watch?v=M7bnYJyCx0Q from 1:02:20 to 1:14:59.\n",
    "\n",
    "When writing the solutions make sure the code is clear and readable. When providing comments, follow the general principle that you should comment \"why\" you are doing something and not \"what\", the \"what\" is seen by the code itself. "
   ]
  },
  {
   "cell_type": "markdown",
   "id": "c43aead3",
   "metadata": {},
   "source": [
    "# Classes"
   ]
  },
  {
   "cell_type": "markdown",
   "id": "a4c65db4",
   "metadata": {},
   "source": [
    "### Create a class \"GroceryStore\" with price and quantity instance attributes and then create a new instance swedish_apples whos price is 30 and quantity is 900. Once the instance is created, print out the two attributes. "
   ]
  },
  {
   "cell_type": "code",
   "execution_count": 2,
   "id": "dffff2b7",
   "metadata": {},
   "outputs": [
    {
     "name": "stdout",
     "output_type": "stream",
     "text": [
      "30\n",
      "900\n",
      "<class '__main__.GroceryStore'>\n",
      "False\n",
      "True\n",
      "A class representing a grocery store product with price, quantity.\n"
     ]
    }
   ],
   "source": [
    "# Class\n",
    "class GroceryStore:\n",
    "    \"\"\"A class representing a grocery store product with price, quantity.\"\"\"\n",
    "\n",
    "    def __init__(self, price, quantity):\n",
    "        self.price = price\n",
    "        self.quantity = quantity\n",
    "\n",
    "\n",
    "# Instans\n",
    "swedish_apples = GroceryStore(price=30, quantity=900)\n",
    "\n",
    "# Prints\n",
    "print(swedish_apples.price)\n",
    "print(swedish_apples.quantity)\n",
    "\n",
    "print(type(swedish_apples))  # <class '__main__.GroceryStore'>\n",
    "print(isinstance(swedish_apples, int))  # False\n",
    "print(isinstance(swedish_apples, GroceryStore))  # True\n",
    "print(GroceryStore.__doc__)\n"
   ]
  },
  {
   "cell_type": "markdown",
   "id": "3dbc1438",
   "metadata": {},
   "source": [
    "### Create a child class \"Subsidiarie\" that will inherit all of the variables and methods of the \"GroceryStore\" class. Then create a new instance grapes whos price is 50 and quantity is 600. Finally, print out the two  attributes.\n",
    "Hint: Use the keyword \"pass\" when creating the class Subsidiarie."
   ]
  },
  {
   "cell_type": "code",
   "execution_count": null,
   "id": "028178bb",
   "metadata": {},
   "outputs": [
    {
     "name": "stdout",
     "output_type": "stream",
     "text": [
      "50\n",
      "600\n"
     ]
    }
   ],
   "source": [
    "# Child class\n",
    "class Subsidiarie(GroceryStore):\n",
    "    pass\n",
    "\n",
    "# Create an instance of the child class\n",
    "grapes = Subsidiarie(price=50, quantity=600)\n",
    "\n",
    "# Print attributes\n",
    "print(grapes.price)\n",
    "print(grapes.quantity)\n"
   ]
  },
  {
   "cell_type": "markdown",
   "id": "fa5b81f5",
   "metadata": {},
   "source": [
    "### Create a child class \"Competitor\" that will inherit all of the variables and methods of the \"GroceryStore\" class. The class should have a class variable called store_name = competitor_grocery_store. Create an instance danish_apples whos price is 28 and quantity 920. Print out both the instance variables (price and quantity) and the class variable store_name."
   ]
  },
  {
   "cell_type": "code",
   "execution_count": 4,
   "id": "ea25ffa9",
   "metadata": {},
   "outputs": [
    {
     "name": "stdout",
     "output_type": "stream",
     "text": [
      "28\n",
      "920\n",
      "competitor_grocery_store\n"
     ]
    }
   ],
   "source": [
    "class Competitor(GroceryStore):\n",
    "  store_name = \"competitor_grocery_store\"\n",
    "\n",
    "# Create an instance\n",
    "danish_apples = Competitor(price=28, quantity=920)\n",
    "\n",
    "# Print instance variables\n",
    "print(danish_apples.price)\n",
    "print(danish_apples.quantity)\n",
    "\n",
    "# Print class variable\n",
    "print(Competitor.store_name)"
   ]
  },
  {
   "cell_type": "markdown",
   "id": "ed508ef5",
   "metadata": {},
   "source": [
    "### Create a class \"GroceryStore_v2\" with price and quantity instance attributes and a class attribute called owner with the value \"Anna\" assigned to it. Add a method, customer_satisfaction that adds an instance attribute called \"grade\"  that can take values between 1-10, how do you make sure that the grade is between 1-10? Ideally, an exception is raised if grade is outside the allowed boundaries. The class should have a one line documentation string. \n",
    "\n",
    "### Create an instance \"lemons\" with price = 60, quantity = 100. Add a customer_satisfaction_grade that is 8.\n",
    "\n",
    "### Check the type of the lemons instance.\n",
    "\n",
    "### Check if lemons is an instance of the integer class (it should return False since lemons is an instance of GroceryStore_v2). Check if lemons is an instance of the GroceryStore_v2 class (should return True).\n",
    "\n",
    "### Print out the documentation string. "
   ]
  },
  {
   "cell_type": "code",
   "execution_count": 6,
   "id": "fe373e76",
   "metadata": {},
   "outputs": [
    {
     "name": "stdout",
     "output_type": "stream",
     "text": [
      "60\n",
      "100\n",
      "8\n",
      "<class '__main__.GroceryStore_v2'>\n",
      "False\n",
      "True\n",
      "A class representing a grocery store product with price, quantity, and customer satisfaction.\n"
     ]
    }
   ],
   "source": [
    "# Class\n",
    "class GroceryStore_v2:\n",
    "    \"\"\"A class representing a grocery store product with price, quantity, and customer satisfaction.\"\"\"\n",
    "    \n",
    "    owner = \"Anna\"\n",
    "\n",
    "    def __init__(self, price, quantity):\n",
    "        self.price = price\n",
    "        self.quantity = quantity\n",
    "\n",
    "    def customer_satisfaction(self, grade):\n",
    "        if 1 <= grade <= 10:\n",
    "            self.grade = grade\n",
    "        else:\n",
    "            raise ValueError(\"Grade must be between 1 and 10.\")\n",
    "\n",
    "# Instans\n",
    "lemons = GroceryStore_v2(price=60, quantity=100)\n",
    "lemons.customer_satisfaction(8)\n",
    "\n",
    "# Prints\n",
    "print(lemons.price)\n",
    "print(lemons.quantity)\n",
    "print(lemons.grade)\n",
    "\n",
    "print(type(lemons))  # <class '__main__.GroceryStore_v2'>\n",
    "print(isinstance(lemons, int))  # False\n",
    "print(isinstance(lemons, GroceryStore_v2))  # True\n",
    "print(GroceryStore_v2.__doc__)\n"
   ]
  },
  {
   "cell_type": "markdown",
   "id": "ca0ae2ce",
   "metadata": {},
   "source": [
    "### Create a class Square whos instances has the attribute side_length. Add two methods, perimeter and area that calculates the perimeter and area respectively given the length of one side which is the only attribute that the class has. Create an instance my_square with the side length 8. Print out the perimeter and area of \"my_square\". "
   ]
  },
  {
   "cell_type": "code",
   "execution_count": 5,
   "id": "16cd8cd7",
   "metadata": {},
   "outputs": [
    {
     "name": "stdout",
     "output_type": "stream",
     "text": [
      "Omkretsen av kvadraten är: 32\n",
      "Arean av kvadraten är: 64\n"
     ]
    }
   ],
   "source": [
    "class Square:\n",
    "    def __init__(self, side_length):\n",
    "        self.side_length = side_length  # Attributet som lagrar längden på en sida av kvadraten\n",
    "\n",
    "    def perimeter(self):\n",
    "        \"\"\"Beräknar omkretsen av kvadraten.\"\"\"\n",
    "        return 4 * self.side_length  # Omkretsen är 4 gånger sidlängden\n",
    "\n",
    "    def area(self):\n",
    "        \"\"\"Beräknar arean av kvadraten.\"\"\"\n",
    "        return self.side_length ** 2  # Arean är sidlängden upphöjd till 2 (sid_längd^2)\n",
    "\n",
    "# Skapa en instans av Square med sidlängden 8\n",
    "my_square = Square(8)\n",
    "\n",
    "# Beräkna omkretsen och arean av my_square\n",
    "perimeter = my_square.perimeter()\n",
    "area = my_square.area()\n",
    "\n",
    "# Skriv ut resultaten\n",
    "print(f\"Omkretsen av kvadraten är: {perimeter}\")\n",
    "print(f\"Arean av kvadraten är: {area}\")\n"
   ]
  },
  {
   "cell_type": "markdown",
   "id": "f069a4a0",
   "metadata": {},
   "source": [
    "# Explain, in detail, with your own words what the \"DescriptiveStatistics\" class does."
   ]
  },
  {
   "cell_type": "code",
   "execution_count": 15,
   "id": "877dfc9b",
   "metadata": {},
   "outputs": [],
   "source": [
    "class DescriptiveStatistics():\n",
    "    \"\"\"This class provides functionality for calculating descriptive statistics from a list.\"\"\"\n",
    "    \n",
    "    def __init__(self):\n",
    "        self.data = []\n",
    "    \n",
    "    def add_data(self, data):\n",
    "        if isinstance(data, list):\n",
    "            self.data.extend(data)\n",
    "        else:\n",
    "            raise Exception('Only \"Lists\" are accepted as data.')\n",
    "            \n",
    "    def calc_sum(self):\n",
    "        return sum(self.data)\n",
    "    \n",
    "    def calc_nbr_of_elements(self):\n",
    "        return len(self.data)\n",
    "    \n",
    "    def calc_mean(self):\n",
    "        return (self.calc_sum())/(self.calc_nbr_of_elements())\n",
    "    \n",
    "    def print_summary(self):\n",
    "        print('Sum:', self.calc_sum())\n",
    "        print('Number of elements:', self.calc_nbr_of_elements())\n",
    "        print('Mean:', self.calc_mean())  "
   ]
  },
  {
   "cell_type": "code",
   "execution_count": 16,
   "id": "6257949c",
   "metadata": {},
   "outputs": [],
   "source": [
    "L = [1, 2, 1, 3, 5, 7, 4, 9, 10, 3, 2, 1, 6, 4, 3, 2, 1, 10, 9, 1, 8, 7, 3, 2, 1]\n",
    "my_data = DescriptiveStatistics()\n",
    "my_data.add_data(L)"
   ]
  },
  {
   "cell_type": "code",
   "execution_count": 17,
   "id": "2c039681",
   "metadata": {},
   "outputs": [
    {
     "data": {
      "text/plain": [
       "[1, 2, 1, 3, 5, 7, 4, 9, 10, 3, 2, 1, 6, 4, 3, 2, 1, 10, 9, 1, 8, 7, 3, 2, 1]"
      ]
     },
     "execution_count": 17,
     "metadata": {},
     "output_type": "execute_result"
    }
   ],
   "source": [
    "my_data.data"
   ]
  },
  {
   "cell_type": "code",
   "execution_count": 18,
   "id": "10f3eb3c",
   "metadata": {},
   "outputs": [
    {
     "name": "stdout",
     "output_type": "stream",
     "text": [
      "Sum: 105\n",
      "Number of elements: 25\n",
      "Mean: 4.2\n"
     ]
    }
   ],
   "source": [
    "print('Sum:', my_data.calc_sum())\n",
    "print('Number of elements:', my_data.calc_nbr_of_elements())\n",
    "print('Mean:', my_data.calc_mean())"
   ]
  },
  {
   "cell_type": "code",
   "execution_count": 8,
   "id": "f7345727",
   "metadata": {},
   "outputs": [
    {
     "ename": "NameError",
     "evalue": "name 'my_data' is not defined",
     "output_type": "error",
     "traceback": [
      "\u001b[31m---------------------------------------------------------------------------\u001b[39m",
      "\u001b[31mNameError\u001b[39m                                 Traceback (most recent call last)",
      "\u001b[36mCell\u001b[39m\u001b[36m \u001b[39m\u001b[32mIn[8]\u001b[39m\u001b[32m, line 1\u001b[39m\n\u001b[32m----> \u001b[39m\u001b[32m1\u001b[39m \u001b[43mmy_data\u001b[49m.print_summary()\n",
      "\u001b[31mNameError\u001b[39m: name 'my_data' is not defined"
     ]
    }
   ],
   "source": [
    "my_data.print_summary()"
   ]
  },
  {
   "cell_type": "code",
   "execution_count": null,
   "id": "87b8bbcf",
   "metadata": {},
   "outputs": [],
   "source": [
    "Variabeln L är en lista med tal.\n",
    "En instans av DescriptiveStatistics skapas och sparas i variabeln my_data.\n",
    "Metoden add_data anropas med listan L som argument, vilket lägger till alla värden i L till my_data.data.\n",
    "De olika metoderna anropas för att beräkna och skriva ut statistiken (summa, antal element och medelvärde)."
   ]
  },
  {
   "cell_type": "markdown",
   "id": "a55a2e6b",
   "metadata": {},
   "source": [
    "# Exceptions\n",
    "In the video: https://www.youtube.com/watch?v=M7bnYJyCx0Q from 1:09:18 to 1:14:59 Exceptions is covered. Now you shall explain: \n",
    "1. In your own words describe why catching exceptions can be useful.\n",
    "2. Create an example where you *catch* an exception. \n",
    "3. Create a function where you *raise* exceptions for different cases (it can be one or more). Why would you like to raise exceptions?"
   ]
  },
  {
   "cell_type": "code",
   "execution_count": null,
   "id": "71d0c415",
   "metadata": {},
   "outputs": [],
   "source": []
  },
  {
   "cell_type": "markdown",
   "id": "7485f9a6",
   "metadata": {},
   "source": [
    "# Read PEP8 available at: https://peps.python.org/pep-0008/ . Give a short summary of some things that you should have in your \"fingertips\". For example, how should variables or classes be named? How should you write a comment?"
   ]
  },
  {
   "cell_type": "code",
   "execution_count": null,
   "id": "c03ca02b",
   "metadata": {},
   "outputs": [],
   "source": []
  }
 ],
 "metadata": {
  "kernelspec": {
   "display_name": "Python",
   "language": "python",
   "name": "python3"
  },
  "language_info": {
   "codemirror_mode": {
    "name": "ipython",
    "version": 3
   },
   "file_extension": ".py",
   "mimetype": "text/x-python",
   "name": "python",
   "nbconvert_exporter": "python",
   "pygments_lexer": "ipython3",
   "version": "3.12.9"
  }
 },
 "nbformat": 4,
 "nbformat_minor": 5
}
