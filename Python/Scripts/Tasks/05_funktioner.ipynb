{
 "cells": [
  {
   "cell_type": "markdown",
   "id": "92b5c548-e8ea-4ce8-a138-b3343118191b",
   "metadata": {},
   "source": [
    "# Uppgifter, Kapitel 5 - Funktioner"
   ]
  },
  {
   "cell_type": "markdown",
   "id": "502784d2-d030-4e1d-8a09-b0b7e2814b63",
   "metadata": {},
   "source": [
    "1. Vad är funktioner för något? "
   ]
  },
  {
   "cell_type": "code",
   "execution_count": null,
   "id": "df6a5271-4242-494e-8b4a-b96ab1072e21",
   "metadata": {},
   "outputs": [],
   "source": [
    "Funktioner är ett centralt koncept inom programmering. De är ett\n",
    "utmärkt hjälpmedel för att inte behöva återupprepa kod."
   ]
  },
  {
   "cell_type": "markdown",
   "id": "f157afb8-a424-4ea6-a749-ad29f71265d6",
   "metadata": {},
   "source": [
    "2. Vad är parametrar och argument för något? "
   ]
  },
  {
   "cell_type": "code",
   "execution_count": null,
   "id": "a08d041d-bad2-42e7-bc33-8b6578994ac4",
   "metadata": {},
   "outputs": [],
   "source": [
    "Funktionens parametrar inom parentes. Parametrarna\n",
    "definierar vilka typer av argument funktionen accepterar. "
   ]
  },
  {
   "cell_type": "markdown",
   "id": "f2b788f5-5052-43cb-9530-9d57c3aa8425",
   "metadata": {},
   "source": [
    "3. Skapa en funktion som heter \"uppercase_converter\". Funktionen skall ta en sträng som ett argument och returnera strängen med stora bokstäver (versaler). Exempel: uppercase_converter(\"hello\") skall returnera \"HELLO\"."
   ]
  },
  {
   "cell_type": "code",
   "execution_count": 1,
   "id": "69fd003d-4e6d-41bf-b70e-23f3694a6afe",
   "metadata": {},
   "outputs": [
    {
     "name": "stdout",
     "output_type": "stream",
     "text": [
      "HELLO\n"
     ]
    }
   ],
   "source": [
    "def uppercase_converter(text):\n",
    "    return text.upper()\n",
    "\n",
    "resultat = uppercase_converter(\"hello\")\n",
    "print(resultat)"
   ]
  },
  {
   "cell_type": "markdown",
   "id": "60f2c868-0651-4b74-b1ec-fa193b970fc2",
   "metadata": {},
   "source": [
    "4. Skapa en funktion \"add_subtract_function\" som tar två argument och som resturnerar både summan och subtraktionen av de två talen i en tuple. Funktionen skall alltså returnera två resultat.\n",
    "   \n",
    "   Exempel: add_subtract_function(7, 3) skall returnera resultatet (10, 4). "
   ]
  },
  {
   "cell_type": "code",
   "execution_count": 2,
   "id": "4442d5c3-35be-4536-9c26-cb984588b93c",
   "metadata": {},
   "outputs": [
    {
     "name": "stdout",
     "output_type": "stream",
     "text": [
      "(10, 4)\n"
     ]
    }
   ],
   "source": [
    "def add_subtract_function(x, y):\n",
    "    return (x + y, x - y)\n",
    "\n",
    "resultat = add_subtract_function(7, 3)\n",
    "print(resultat)"
   ]
  },
  {
   "cell_type": "markdown",
   "id": "504cae43-4001-4135-9cda-06430007768b",
   "metadata": {},
   "source": [
    "5. Skapa en funktion som innehåller minst en \"endast-positionsparameter\", minst en \"positions-eller-nyckelordsparameter\" samt minst en \"endast-nyckelordsparameter\". Ledning: f(pos_only, /, pos_or_kwd, *, kwd_only). "
   ]
  },
  {
   "cell_type": "code",
   "execution_count": null,
   "id": "bf6cd607-a4ea-4dbe-bd4d-097145763903",
   "metadata": {},
   "outputs": [
    {
     "name": "stdout",
     "output_type": "stream",
     "text": [
      "Endast position: 1\n",
      "Position eller nyckelord: 2\n",
      "Endast nyckelord: 3\n"
     ]
    },
    {
     "ename": "TypeError",
     "evalue": "f() got some positional-only arguments passed as keyword arguments: 'pos_only'",
     "output_type": "error",
     "traceback": [
      "\u001b[31m---------------------------------------------------------------------------\u001b[39m",
      "\u001b[31mTypeError\u001b[39m                                 Traceback (most recent call last)",
      "\u001b[36mCell\u001b[39m\u001b[36m \u001b[39m\u001b[32mIn[3]\u001b[39m\u001b[32m, line 7\u001b[39m\n\u001b[32m      4\u001b[39m     \u001b[38;5;28mprint\u001b[39m(\u001b[33mf\u001b[39m\u001b[33m\"\u001b[39m\u001b[33mEndast nyckelord: \u001b[39m\u001b[38;5;132;01m{\u001b[39;00mkwd_only\u001b[38;5;132;01m}\u001b[39;00m\u001b[33m\"\u001b[39m)\n\u001b[32m      6\u001b[39m f(\u001b[32m1\u001b[39m, \u001b[32m2\u001b[39m, kwd_only=\u001b[32m3\u001b[39m)\n\u001b[32m----> \u001b[39m\u001b[32m7\u001b[39m \u001b[43mf\u001b[49m\u001b[43m(\u001b[49m\u001b[43mpos_only\u001b[49m\u001b[43m=\u001b[49m\u001b[32;43m1\u001b[39;49m\u001b[43m,\u001b[49m\u001b[43m \u001b[49m\u001b[43mpos_or_kwd\u001b[49m\u001b[43m=\u001b[49m\u001b[32;43m2\u001b[39;49m\u001b[43m,\u001b[49m\u001b[43m \u001b[49m\u001b[43mkwd_only\u001b[49m\u001b[43m=\u001b[49m\u001b[32;43m3\u001b[39;49m\u001b[43m)\u001b[49m\n",
      "\u001b[31mTypeError\u001b[39m: f() got some positional-only arguments passed as keyword arguments: 'pos_only'"
     ]
    }
   ],
   "source": [
    "def f(pos_only, /, pos_or_kwd, *, kwd_only):\n",
    "    print(f\"Endast position: {pos_only}\")\n",
    "    print(f\"Position eller nyckelord: {pos_or_kwd}\")\n",
    "    print(f\"Endast nyckelord: {kwd_only}\")\n",
    "\n",
    "f(1, 2, kwd_only=3)\n",
    "f(pos_only=1, pos_or_kwd=2, kwd_only=3) # pos_only får inte anges med nyckelord"
   ]
  },
  {
   "cell_type": "markdown",
   "id": "3c54c834-bc82-49b7-8dad-57285e90a6a5",
   "metadata": {},
   "source": [
    "6. Förklara vad nedanstående kod gör. "
   ]
  },
  {
   "cell_type": "code",
   "execution_count": null,
   "id": "86176bac-61f1-4bc4-9332-a85dcb226314",
   "metadata": {},
   "outputs": [],
   "source": [
    "def my_sum_function(x1, x2):\n",
    "    return x1 + x2\n",
    "\n",
    "a = my_sum_function\n",
    "\n",
    "a(1, 2)"
   ]
  },
  {
   "cell_type": "code",
   "execution_count": null,
   "id": "53dfac2a-0f45-46e5-903a-ad93388475cd",
   "metadata": {},
   "outputs": [],
   "source": [
    "Detta skapar en funktion som tar två argument och returnerar deras summa.\n",
    "Här tilldelas funktionen my_sum_function till variabeln a. Det betyder att a nu refererar till samma funktion som my_sum_function.\n",
    "Eftersom a är samma sak som my_sum_function, körs funktionen med argumenten 1 och 2, och resultatet blir 3."
   ]
  },
  {
   "cell_type": "markdown",
   "id": "5fff27c2-3dcc-4e6c-a748-0322b4fbdf5f",
   "metadata": {},
   "source": [
    "7. Skriv en funktion som du kallar för \"add_or_multiply\". Funktionen \"add_or_multiply\" skall ta tre argument. De första två är tal medans det tredje specificierar huruvida du önskar addera eller multiplicera de två talen. Om användaren av funktionen varken specificerar \"add\" eller \"multiply\" som det tredje argumentet så skall meddeleandet \"Choose either \"add\" or \"multiply\". \"  printas ut. \n",
    "\n",
    "    Exempel: \n",
    "    \n",
    "    \"add_or_multiply(2, 5, \"add\") = 7\"\n",
    "    \n",
    "    \"add_or_multiply(2, 5, \"multiply\") = 10\"\n",
    "    \n",
    "    \"add_or_multiply(2, 5, \"Wrong\")\" skall printa ut meddelandet: Choose either \"add\" or \"multiply\". \n"
   ]
  },
  {
   "cell_type": "code",
   "execution_count": null,
   "id": "f647a4d3-fff9-486d-84b5-504902f6bcef",
   "metadata": {},
   "outputs": [],
   "source": [
    "def add_or_multiply(num1, num2, operation):\n",
    "    if operation == \"add\":\n",
    "        return num1 + num2\n",
    "    elif operation == \"multiply\":\n",
    "        return num1 * num2\n",
    "    else:\n",
    "        print('Choose either \"add\" or \"multiply\".')\n",
    "\n",
    "# Testa funktionen\n",
    "print(add_or_multiply(2, 5, \"add\"))\n",
    "print(add_or_multiply(2, 5, \"multiply\")) \n",
    "print(add_or_multiply(2, 5, \"Wrong\")) \n"
   ]
  },
  {
   "cell_type": "markdown",
   "id": "f2b68363-ac11-4a0b-b25d-292b0ffaca60",
   "metadata": {},
   "source": [
    "8. Kör koden nedan och förklara vad som sker. "
   ]
  },
  {
   "cell_type": "code",
   "execution_count": null,
   "id": "491108e5-7182-47b5-ae21-45a0aa05c547",
   "metadata": {},
   "outputs": [],
   "source": [
    "name = input('What is your name dear stranger?')\n",
    "\n",
    "print('Mom, I met a person whos name is:', name)"
   ]
  },
  {
   "cell_type": "code",
   "execution_count": null,
   "id": "269fa898-e8ae-47e9-ad69-85b999ececcc",
   "metadata": {},
   "outputs": [],
   "source": [
    "Den ställer frågan: What is your name Stranger?\n",
    "och man svarar med ett Namn eller något.\n",
    "Sedan får man en response: Mom, i met a person whos name is: Alice\n",
    "\n",
    "Vilket menar att personen möter en person som heter \"Alice\" och under en senare tid så möter han sin mamma som han säger att han träffade en person som heter \"Alice\".\n",
    "\n",
    "Det finns typo i whos: \"whos\" borde vara \"whose\"."
   ]
  }
 ],
 "metadata": {
  "kernelspec": {
   "display_name": "Python",
   "language": "python",
   "name": "python3"
  },
  "language_info": {
   "codemirror_mode": {
    "name": "ipython",
    "version": 3
   },
   "file_extension": ".py",
   "mimetype": "text/x-python",
   "name": "python",
   "nbconvert_exporter": "python",
   "pygments_lexer": "ipython3",
   "version": "3.12.9"
  }
 },
 "nbformat": 4,
 "nbformat_minor": 5
}
