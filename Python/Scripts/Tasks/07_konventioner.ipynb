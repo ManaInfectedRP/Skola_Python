{
 "cells": [
  {
   "attachments": {},
   "cell_type": "markdown",
   "id": "9799136c-28e3-4c25-9585-241385dd2803",
   "metadata": {},
   "source": [
    "# Uppgifter, Kapitel 7 - Konventioner och standarder"
   ]
  },
  {
   "cell_type": "markdown",
   "id": "1565038d-c4c8-4da0-af92-3fc60587fb8b",
   "metadata": {},
   "source": [
    "1. Läs \"PEP 8 – Style Guide for \n",
    "Python Cod\"  och besvaranedanstående frågor.\n",
    " \n",
    "   a) Om du arbetar i ett projekt som har ett internt dokument med \"style guidelines\" där vissa saker går emot vad PEP8 säger. Vad gör du då?\n",
    "   \n",
    "   b) På vilket språk skall kommentarer generellt sett skrivas.\n",
    "   \n",
    "   c) Hur skall funktioner och variabler namnges?\n",
    "   \n",
    "   d) Hur skall klasser namnges?\n",
    "   \n",
    "   e) Om du i ditt skript importerar exempelvis en modul, vart i skriptet skall koden som utför importen placeras?\n",
    "   \n",
    "   f) Enligt PEP8, skall man använda enkla ('my_string') eller dubbla (\"my_string\") citattecken för att skapa en sträng?\n",
    "   \n",
    "   g) Vilket av \"Alternativ 1\" och \"Alternativ 2\" nedan är det korrekta sättet att skriva koden på enligt PEP8?"
   ]
  },
  {
   "cell_type": "code",
   "execution_count": 1,
   "id": "c6cdc9fa-8b18-49ed-a68f-db94479750ac",
   "metadata": {},
   "outputs": [],
   "source": [
    "# Alternativ 1\n",
    "a1 = 5 + 2\n",
    "\n",
    "# Alternativ 2\n",
    "a2=5+2"
   ]
  },
  {
   "cell_type": "code",
   "execution_count": null,
   "id": "829819eb-1174-420d-bf53-e86a7c992bb2",
   "metadata": {},
   "outputs": [],
   "source": [
    "A: Du följer projektets interna stilguide. PEP 8 själv säger att det är viktigare att följa enhetliga regler inom ett projekt än att följa PEP 8 exakt.\n",
    "Syftet med PEP 8 är att främja läsbarhet och konsekvens, inte att vara strikt lag.\n",
    "\n",
    "B: Kommentarer ska generellt skrivas på engelska. Det ökar tillgängligheten för andra utvecklare, särskilt om projektet är internationellt eller öppen källkod.\n",
    "\n",
    "C: Funktioner och variabler ska använda snake_case:\n",
    "def beräkna_area():\n",
    "    radie_längd = 5\n",
    "\n",
    "D: Klasser ska använda CapWords (PascalCase):\n",
    "class MinHund:\n",
    "    pass\n",
    "\n",
    "E:  Importer ska placeras i början av filen, efter eventuella modulspecifika kommentarer eller docstrings, och före globala variabler eller kod.\n",
    "\"\"\"Detta är min modul.\"\"\"\n",
    "import os\n",
    "import sys\n",
    "\n",
    "F: PEP 8 tillåter båda, men du ska vara konsekvent. Välj en stil och håll dig till den. Många Python-projekt (t.ex. Black formaterare) föredrar enkla citattecken '...' som standard.\n",
    "\n",
    "G: Alternativ 1 är rätt enligt PEP 8, eftersom man ska använda mellanslag runt operatorer."
   ]
  },
  {
   "cell_type": "markdown",
   "id": "2d096e06-bce1-4145-9c5d-f4d3a6d01107",
   "metadata": {},
   "source": [
    "2. I \"PEP20 - The Zen of Python\" så står det:\n",
    "   \n",
    "   a) \"Explicit is better than implicit.\" Vad tror du det innebär? Kan du exemplifiera?\n",
    "   \n",
    "   b) \"Simple is better than complex.\" Vad tror du det innebär? Kan du exemplifiera? ."
   ]
  },
  {
   "cell_type": "code",
   "execution_count": null,
   "id": "5bb92cfa-0330-4114-bb5a-ff795ae349a0",
   "metadata": {},
   "outputs": [],
   "source": [
    "A: Det betyder att kod bör vara tydlig och självklar snarare än dold eller tvetydig. Man ska kunna förstå vad som händer i koden utan att gissa.\n",
    "\n",
    "B: Koden bör vara enkel och lätt att förstå, även om den kanske inte är den mest “smarta” eller kompakta lösningen. Enkelhet gör det lättare att underhålla och felsöka."
   ]
  },
  {
   "cell_type": "markdown",
   "id": "78ca2c6f-b3bb-4d36-bddf-38a46ebca1bd",
   "metadata": {},
   "source": [
    "3. Du och din nya kollega har en fikapaus och han säger följande: \"Det känns krångligt att vi alla skall behöva följa konventioner och standarder. Är det inte lättare om alla bara skriver kod på det sättet som de vill, sålänge som den fungerar\"? Vad svarar du? "
   ]
  },
  {
   "cell_type": "code",
   "execution_count": null,
   "id": "1a12c350-2dee-4786-ab0b-989a42484581",
   "metadata": {},
   "outputs": [],
   "source": [
    "Bra poäng! Men konventioner som PEP 8 finns mest för att göra koden lättare att läsa och underhålla – speciellt när fler jobbar i samma projekt. Det handlar inte om att krångla till det, utan att spara tid och misstag på sikt."
   ]
  }
 ],
 "metadata": {
  "kernelspec": {
   "display_name": "Python 3 (ipykernel)",
   "language": "python",
   "name": "python3"
  },
  "language_info": {
   "codemirror_mode": {
    "name": "ipython",
    "version": 3
   },
   "file_extension": ".py",
   "mimetype": "text/x-python",
   "name": "python",
   "nbconvert_exporter": "python",
   "pygments_lexer": "ipython3",
   "version": "3.9.18"
  }
 },
 "nbformat": 4,
 "nbformat_minor": 5
}
