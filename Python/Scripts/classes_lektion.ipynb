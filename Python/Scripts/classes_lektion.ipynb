{
 "cells": [
  {
   "cell_type": "markdown",
   "id": "7e5f3d4e-4555-4818-9323-1ccc509dc57d",
   "metadata": {},
   "source": [
    "# Klasser + introduktion till AI och vad som komma skall längre fram\n",
    "\n",
    "Classes provide a means of bundling data and functionality together. Creating a new class creates a new type of object, allowing new instances of that type to be made. Each class instance can have attributes attached to it for maintaining its state. Class instances can also have methods (defined by its class) for modifying its state.\n",
    "https://docs.python.org/3/tutorial/classes.html"
   ]
  },
  {
   "cell_type": "code",
   "execution_count": 13,
   "id": "2b7362d9-c871-4dc0-88a6-c06a21ec5856",
   "metadata": {},
   "outputs": [],
   "source": [
    "class OpaHalmstad:\n",
    "    def __init__(self, name, age):\n",
    "        self.name = name\n",
    "        self.age = age \n",
    "    def add_grade(self, grade):\n",
    "        self.grade = grade"
   ]
  },
  {
   "cell_type": "code",
   "execution_count": 9,
   "id": "591ffb77-4cf3-4242-97b7-52e00ec67645",
   "metadata": {},
   "outputs": [],
   "source": [
    "# Instans\n",
    "student_1 = OpaHalmstad('Johanna', 32)"
   ]
  },
  {
   "cell_type": "code",
   "execution_count": 11,
   "id": "ffe4c9c3-17c2-46b1-a12d-c957f0754e6b",
   "metadata": {},
   "outputs": [
    {
     "name": "stdout",
     "output_type": "stream",
     "text": [
      "Johanna\n",
      "G\n"
     ]
    }
   ],
   "source": [
    "print(student_1.name)  # Attribut\n",
    "student_1.add_grade('G')  # Metod\n",
    "print(student_1.grade)"
   ]
  },
  {
   "cell_type": "markdown",
   "id": "f6a411d6-e600-4ca8-9fab-d73fc78b90b0",
   "metadata": {},
   "source": [
    "# Utmaning"
   ]
  },
  {
   "cell_type": "markdown",
   "id": "2ba66422-b11f-492c-ac7e-589ae9a3a1f7",
   "metadata": {},
   "source": [
    "### Create a class \"GroceryStore_v2\" with price and quantity instance attributes and a class attribute called owner with the value \"Anna\" assigned to it. Add a method, customer_satisfaction that adds an instance attribute called \"grade\"  that can take values between 1-10, how do you make sure that the grade is between 1-10? Ideally, an exception is raised if grade is outside the allowed boundaries. The class should have a one line documentation string. \n",
    "\n",
    "### Create an instance \"lemons\" with price = 60, quantity = 100. Add a customer_satisfaction_grade that is 8.\n",
    "\n",
    "### Check the type of the lemons instance.\n",
    "\n",
    "### Check if lemons is an instance of the integer class (it should return False since lemons is an instance of GroceryStore_v2). Check if lemons is an instance of the GroceryStore_v2 class (should return True).\n",
    "\n",
    "### Print out the documentation string. "
   ]
  },
  {
   "cell_type": "code",
   "execution_count": null,
   "id": "cf4ae7b8",
   "metadata": {},
   "outputs": [
    {
     "name": "stdout",
     "output_type": "stream",
     "text": [
      "<class '__main__.GroceryStore_v2'>\n",
      "False\n",
      "True\n",
      "A class representing a grocery store product with price, quantity, and customer satisfaction.\n"
     ]
    }
   ],
   "source": [
    "# Class\n",
    "class GroceryStore_v2:\n",
    "    \"\"\"A class representing a grocery store product with price, quantity, and customer satisfaction.\"\"\"\n",
    "    \n",
    "    owner = \"Anna\"\n",
    "\n",
    "    def __init__(self, price, quantity):\n",
    "        self.price = price\n",
    "        self.quantity = quantity\n",
    "\n",
    "    def customer_satisfaction(self, grade):\n",
    "        if 1 <= grade <= 10:\n",
    "            self.grade = grade\n",
    "\n",
    "# Instans\n",
    "lemons = GroceryStore_v2(price=60, quantity=100)\n",
    "lemons.customer_satisfaction(8)\n",
    "\n",
    "# Prints\n",
    "print(type(lemons))  # <class '__main__.GroceryStore_v2'>\n",
    "print(isinstance(lemons, int))  # False\n",
    "print(isinstance(lemons, GroceryStore_v2))  # True\n",
    "print(GroceryStore_v2.__doc__)\n"
   ]
  }
 ],
 "metadata": {
  "kernelspec": {
   "display_name": "Python",
   "language": "python",
   "name": "python3"
  },
  "language_info": {
   "codemirror_mode": {
    "name": "ipython",
    "version": 3
   },
   "file_extension": ".py",
   "mimetype": "text/x-python",
   "name": "python",
   "nbconvert_exporter": "python",
   "pygments_lexer": "ipython3",
   "version": "3.12.9"
  }
 },
 "nbformat": 4,
 "nbformat_minor": 5
}
