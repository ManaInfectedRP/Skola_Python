{
 "cells": [
  {
   "cell_type": "code",
   "execution_count": 10,
   "id": "7e696cc5",
   "metadata": {},
   "outputs": [
    {
     "name": "stdout",
     "output_type": "stream",
     "text": [
      "💎\n"
     ]
    }
   ],
   "source": [
    "# Windows: Emoji-panel\n",
    "# Tryck på Windows-tangenten + . (punkt) eller Windows + ; (semikolon)  \n",
    "# Då öppnas emoji-panelen där du kan välja emoji och den klistras in direkt där markören är.\n",
    "\n",
    "# Mac: Emoji-tangentbord\n",
    "# Tryck Ctrl + Cmd + Space\n",
    "# Välj emoji i popup-fönstret och klicka för att infoga den.\n",
    "\n",
    "# Finns ochså Liberary \"Emjoy\"\n",
    "# pip install emoji\n",
    "\n",
    "# Exempel på \"Emoji\"\n",
    "# import emoji\n",
    "# print(emoji.emojize(\"Diamant :gem:\", language=\"alias\"))\n",
    "\n",
    "# | Metod                 | Beskrivning                 | Exempel                          |\n",
    "# | --------------------- | --------------------------- | -------------------------------- |\n",
    "# | Klistra in            | Kopiera emoji från webben   | `print(\"💎\")`                    |\n",
    "# | Windows emoji-panel   | `Win + .`                   | Öppnar emoji-panel               |\n",
    "# | Mac emoji-tangentbord | `Ctrl + Cmd + Space`        | Välj emoji från fönster          |\n",
    "# | Unicode escapes       | Använd Unicode-kod i sträng | `print(\"\\U0001F48E\")`            |\n",
    "# | Paket `emoji`         | Skriv emoji via alias       | `emoji.emojize(\"Diamant :gem:\")` |\n",
    "\n",
    "print(\"\\U0001F48E\") # 💎 Diamant\n",
    "\n",
    "# Koden visas U+ vilket är U000 sedan 1F48E\n",
    "\n",
    "# | Emoji | Unicode-kodpunkt | Beskrivning                                 |\n",
    "# | ----- | ---------------- | ------------------------------------------- |\n",
    "# | 💎    | U+1F48E          | Diamant                                     |\n",
    "# | 😀    | U+1F600          | Glad ansikte                                |\n",
    "# | ❤️    | U+2764 U+FE0F    | Rött hjärta (kombination av två kodpunkter) |\n",
    "# | 🚀    | U+1F680          | Raket                                       |\n",
    "# | 🐍    | U+1F40D          | Orm                                         |\n",
    "# https://emojipedia.org/\n",
    "# På sidan för varje emoji visas Unicode-koden, t.ex. \"U+1F48E\" för 💎."
   ]
  }
 ],
 "metadata": {
  "kernelspec": {
   "display_name": "Python",
   "language": "python",
   "name": "python3"
  },
  "language_info": {
   "codemirror_mode": {
    "name": "ipython",
    "version": 3
   },
   "file_extension": ".py",
   "mimetype": "text/x-python",
   "name": "python",
   "nbconvert_exporter": "python",
   "pygments_lexer": "ipython3",
   "version": "3.12.9"
  }
 },
 "nbformat": 4,
 "nbformat_minor": 5
}
