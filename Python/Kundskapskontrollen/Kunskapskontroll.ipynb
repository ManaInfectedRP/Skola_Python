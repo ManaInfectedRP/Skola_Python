{
 "cells": [
  {
   "cell_type": "markdown",
   "id": "140702e4",
   "metadata": {},
   "source": [
    "*Kunskapskontroll – Python, NBI*\n"
   ]
  },
  {
   "cell_type": "markdown",
   "id": "0b82526b",
   "metadata": {},
   "source": [
    "1. Vad är skillnaden på en tuple och list i Python? Är den ena datatypen bättre än den\n",
    "andra?"
   ]
  },
  {
   "cell_type": "markdown",
   "id": "d7d4595c",
   "metadata": {},
   "source": [
    "Skillnaden mellan en tuple och en list i Python handlar främst om ändringsbarhet (mutability).\n",
    "List (lista): Ändringsbar – (mutabable) - du kan lägga till, ta bort och ändra element efter att listan skapats.\n",
    "Tuple (tupl): Oändringsbar (immutable) – du kan inte ändra innehållet efter att den skapats.\n",
    "\n",
    "Jag tycker att båda datatyper är bra. Här är andledningarna:\n",
    "Använd listor när du behöver lägga till, ta bort eller ändra data.\n",
    "Använd tuples när du vill skydda datan från ändringar, eller när du behöver använda den som nyckel i en dictionary."
   ]
  },
  {
   "cell_type": "markdown",
   "id": "95aac49c",
   "metadata": {},
   "source": [
    "2. Vad är en funktion för något? Varför kan funktioner vara användbara?"
   ]
  },
  {
   "cell_type": "markdown",
   "id": "7d1ffdd7",
   "metadata": {},
   "source": [
    "En funktion är ett sätt att paketera kod för att återanvända och organisera den på ett smart sätt.\n",
    "Den gör program lättare att läsa, underhålla och utveckla."
   ]
  },
  {
   "cell_type": "markdown",
   "id": "c8020d05",
   "metadata": {},
   "source": [
    "3. Förklara vad nedanstående begrepp, kopplat till klasser, betyder:\n",
    "a) Instans\n",
    "b) Attribut\n",
    "c) Metod"
   ]
  },
  {
   "cell_type": "markdown",
   "id": "bd73d20f",
   "metadata": {},
   "source": [
    "a) Instans: En instans är ett konkret objekt som har skapats från en klass.\n",
    "b) Attribut: Ett attribut är en variabel som tillhör en instans (eller en klass).\n",
    "c) Metod: En metod är en funktion som tillhör en klass. Den kan använda (eller ändra) objektets attribut."
   ]
  },
  {
   "cell_type": "markdown",
   "id": "9b3c08c1",
   "metadata": {},
   "source": [
    "4. Vad är Streamlit för något?"
   ]
  },
  {
   "cell_type": "markdown",
   "id": "72edc6a3",
   "metadata": {},
   "source": [
    "Steamlit är en Open-Source python-ramverk med öppen källkod för AI/ML devs. För att skapa interaktiva appar på några raders kod."
   ]
  },
  {
   "cell_type": "markdown",
   "id": "2268016a",
   "metadata": {},
   "source": [
    "5. I Python ska du nu:\n",
    "\n",
    "a) Skapa en klass som heter BankAccount. Klassen skall ha attributet \"account_holder\"\n",
    "som visar kontoinnehavarens namn samt attributet \"balance\" som visar\n",
    "kontoinnehavarens balans. Klassen skall ha metoden \"deposit()\" för att kunna sätta in\n",
    "pengar på kontot samt metoden \"withdraw()\" för att kunna ta ut pengar från kontot. Om\n",
    "bankinnehavaren försöker ta ut mer pengar än vad som finns på kontot skall\n",
    "meddelandet \"Too low balance\" printas ut.\n",
    "\n",
    "b) Skapa en instans av klassen och testa så klassen funkar så som du förväntar dig. Du\n",
    "kan till exempel prova printa ut attributen, sätta in pengar och ta ut pengar."
   ]
  },
  {
   "cell_type": "code",
   "execution_count": 1,
   "id": "74a23b5f",
   "metadata": {},
   "outputs": [
    {
     "name": "stdout",
     "output_type": "stream",
     "text": [
      "Account holder: John Doe\n",
      "Initial balance: 100\n",
      "Deposited 50. New balance: 150\n",
      "Too low balance\n",
      "Withdrew 50. New balance: 100\n",
      "Withdraw amount must be positive.\n",
      "Deposit amount must be positive.\n",
      "A class to represent a bank account.\n"
     ]
    }
   ],
   "source": [
    "class BankAccount:\n",
    "    \"\"\"A class to represent a bank account.\"\"\"\n",
    "    \n",
    "    def __init__(self, account_holder, balance=0):\n",
    "        \"\"\"Initializes the bank account with an account holder and an optional balance (default is 0).\"\"\"\n",
    "        self.account_holder = account_holder\n",
    "        self.balance = balance\n",
    "    \n",
    "    def deposit(self, amount):\n",
    "        \"\"\"Deposits money into the account.\"\"\"\n",
    "        if amount > 0:\n",
    "            self.balance += amount\n",
    "            print(f\"Deposited {amount}. New balance: {self.balance}\")\n",
    "        else:\n",
    "            print(\"Deposit amount must be positive.\")\n",
    "    \n",
    "    def withdraw(self, amount):\n",
    "        \"\"\"Withdraws money from the account.\"\"\"\n",
    "        if amount > self.balance:\n",
    "            print(\"Too low balance\")\n",
    "        elif amount > 0:\n",
    "            self.balance -= amount\n",
    "            print(f\"Withdrew {amount}. New balance: {self.balance}\")\n",
    "        else:\n",
    "            print(\"Withdraw amount must be positive.\")\n",
    "\n",
    "# Skapa en instans av BankAccount\n",
    "my_account = BankAccount(\"John Doe\", 100)\n",
    "\n",
    "# Print kontoinnehavaren och balans\n",
    "print(\"Account holder:\", my_account.account_holder)\n",
    "print(\"Initial balance:\", my_account.balance)\n",
    "\n",
    "# Sätt in pengar\n",
    "my_account.deposit(50)\n",
    "\n",
    "# Försök att ta ut mer pengar än vad som finns på kontot\n",
    "my_account.withdraw(200)\n",
    "\n",
    "# Ta ut pengar inom tillåtet belopp\n",
    "my_account.withdraw(50)\n",
    "\n",
    "# Försök att ta ut negativa belopp\n",
    "my_account.withdraw(-10)\n",
    "\n",
    "# Sätt in negativa belopp\n",
    "my_account.deposit(-30)\n",
    "\n",
    "print(my_account.__doc__)"
   ]
  },
  {
   "cell_type": "markdown",
   "id": "23d99338",
   "metadata": {},
   "source": [
    "6. På intervjuer brukar ibland kodtest genomföras. Här är ett exempel på en fråga som hade\n",
    "kunnat dyka upp på ett kodtest.\n",
    "Skapa en Python funktion som beräknar antalet vokaler i en sträng. Vokalerna är:\n",
    "A, E, I, O, U, Y, Å, Ä och Ö.\n",
    "2/3\n",
    "Exempelvis: vowel_checker(’hjärna’) ska returnera ”2” eftersom ordet ”hjärna” har de två\n",
    "vokalerna ”ä” och ”a”. "
   ]
  },
  {
   "cell_type": "code",
   "execution_count": 2,
   "id": "8f17e847",
   "metadata": {},
   "outputs": [
    {
     "name": "stdout",
     "output_type": "stream",
     "text": [
      "2\n"
     ]
    }
   ],
   "source": [
    "def vowel_checker(text):\n",
    "    vokaler = \"aeiouyåäöAEIOUYÅÄÖ\"\n",
    "    antal = 0\n",
    "    for bokstav in text:\n",
    "        if bokstav in vokaler:\n",
    "            antal += 1\n",
    "    return antal\n",
    "\n",
    "# Exempel\n",
    "print(vowel_checker(\"hjärna\")) "
   ]
  },
  {
   "cell_type": "markdown",
   "id": "2f82cfe2",
   "metadata": {},
   "source": [
    "7. På intervjuer brukar ibland kodtest genomföras. Här är ett exempel på en fråga som hade\n",
    "kunnat dyka upp på ett kodtest.\n",
    "Skapa en funktion som tar två listor som argument och returnerar de gemensamma\n",
    "elementen i listorna i en ny lista.\n",
    "Exempelvis:\n",
    "common_elements([4, ’apple’, 10, ’hi’, 3], ([23 ’apple’, 5, 9, 3]) ska returnera svaret\n",
    "[’apple’, 3]."
   ]
  },
  {
   "cell_type": "code",
   "execution_count": null,
   "id": "bddea540",
   "metadata": {},
   "outputs": [
    {
     "name": "stdout",
     "output_type": "stream",
     "text": [
      "['apple', 3]\n"
     ]
    }
   ],
   "source": [
    "# Skapar en funktion som tar in 2 listor och returnerar alla element i listan som är samma.\n",
    "def common_elemnts(lista1, lista2):\n",
    "    return [element for element in lista1 if element in lista2]\n",
    "\n",
    "# Vi kallar på funktionen o fyller i listorna med apple\n",
    "resultat = common_elemnts(\n",
    "    [4, 'apple', 10, 'hi', 3],\n",
    "    #   [23, 'apple', 5, 9, 3])\n",
    "print(resultat)"
   ]
  },
  {
   "cell_type": "markdown",
   "id": "3ca5d120",
   "metadata": {},
   "source": [
    "8. Många barn tror att de blev till genom att en stork kom och lämnade dem till deras\n",
    "föräldrar. För att undersöka det kan vi kolla på data och det finns en graf enligt figuren\n",
    "nedan. Det verkar alltså finnas ett samband mellan antalet storkar och barnafödsel!?\n",
    "Stämmer påståendet? Använd begreppet ”kausalitet” i ditt svar."
   ]
  },
  {
   "cell_type": "markdown",
   "id": "a51e5bcb",
   "metadata": {},
   "source": [
    "Även om grafen visar ett samband mellan antalet storkpar och födslar, betyder det inte att storkar orsakar barnafödsel. Det saknas kausalitet – och sambandet förklaras troligen av andra faktorer som påverkar både stork- och födelsetäthet."
   ]
  },
  {
   "cell_type": "markdown",
   "id": "088d45fc",
   "metadata": {},
   "source": [
    "9. Kim påstår att ”medelvärdet” är ett bättre mått än ”medianvärdet”. Håller du med Kalle?"
   ]
  },
  {
   "cell_type": "markdown",
   "id": "e148589f",
   "metadata": {},
   "source": [
    "Jag håller inte automatiskt med Kim.\n",
    "Medelvärde är ibland bättre, ibland inte.\n",
    "Medianen är ofta mer tålig mot extremvärden och ger en bättre bild av den \"typiska\" observationen i snedfördelad data."
   ]
  },
  {
   "cell_type": "markdown",
   "id": "9576d99d",
   "metadata": {},
   "source": [
    "10. Vad används cirkeldiagram för? Ge ett exempel på vad ett företag som Spotify (eller\n",
    "något annat företag som du själv väljer) hade kunnat använda cirkeldiagram för. "
   ]
  },
  {
   "cell_type": "markdown",
   "id": "c4791a91",
   "metadata": {},
   "source": [
    "Ett cirkeldiagram eller tårtdiagram används för att visa fördelningen av delar i en helhet, vanligtvis i procent.\n",
    "Varje \"tårtbit\" representerar en kategori och dess andel av totalen.\n",
    "\n",
    "Spotify skulle kunna använda ett cirkeldiagram för att visa:\n",
    "\"Andelen lyssningar per musikgenre under ett år\""
   ]
  },
  {
   "cell_type": "markdown",
   "id": "b1b95531",
   "metadata": {},
   "source": [
    "11. Vad används linjediagram för? Ge ett exempel på vad ett företag som Spotify (eller något\n",
    "annat företag som du själv väljer) hade kunnat använda linjediagram för."
   ]
  },
  {
   "cell_type": "markdown",
   "id": "4c31a8c6",
   "metadata": {},
   "source": [
    "Ett linjediagram används för att visa hur något förändras över tid – t.ex. försäljning per månad, antal användare per vecka, eller temperatur per dag.\n",
    "\n",
    "Spotify skulle kunna använda ett linjediagram för att visa:\n",
    "\"Antal dagliga användare\"\n",
    "(exempel X axel(horizonell) = Tid ( månader/år)\n",
    " exempel Y axel(vertical) = Antal Andvändare)"
   ]
  },
  {
   "cell_type": "markdown",
   "id": "0c870305",
   "metadata": {},
   "source": [
    "12. Vad används lådagram för?"
   ]
  },
  {
   "cell_type": "markdown",
   "id": "264fa680",
   "metadata": {},
   "source": [
    "Lådagram (engelska: box plot eller box-and-whisker plot), används för att visuellt sammanfatta fördelningen av en datamängd.\n",
    "De visar viktiga statistiska mått och hjälper till att snabbt förstå variationen och spridningen i data."
   ]
  },
  {
   "cell_type": "markdown",
   "id": "a623eacc",
   "metadata": {},
   "source": [
    "**Självutvärdering\n",
    "1. Vad har varit roligast i kunskapskontrollen?\n",
    "\n",
    "2. Vilket betyg anser du att du ska ha och varför?\n",
    "\n",
    "3. Vad har varit mest utmanande i arbetet och hur har du hanterat det?"
   ]
  },
  {
   "cell_type": "markdown",
   "id": "229930b7",
   "metadata": {},
   "source": [
    "1. Det roligaste i kunskapskontrollen är analysen av Diamond och skriva kod för att visualisera den igenom python kod med olika biblotek så som NumPy, Pandas och Matplot med flera som jag har hittat och kunnat använda under kursens moment.\n",
    "\n",
    "2. VG : Mitt arbete möter kraven för betyget VG.\n",
    "Jag visar både tekniskt kunnande, analytisk förmåga, affärsförståelse och förmåga att kommunicera insikter tydligt. Jag går också bortom enbart kodning genom att resonera kring data, resultat och tillämpning i en verklig affärskontext.\n",
    "\n",
    "3. Den mest utmanande delen av arbetet har varit att hitta en balans mellan datateknisk noggrannhet och affärsmässig relevans. Det fanns ett stort antal variabler i datasetet (t.ex. carat, cut, clarity, depth, table) och det krävdes tid att avgöra vilka som hade mest affärsnytta för Guldfynds målgrupp. Att välja bort irrelevanta analyser och fokusera på insikter som verkligen kan påverka beslut var en utmaning.\n",
    "En annan teknisk utmaning var att arbeta med diskretisering av numeriska värden (t.ex. carat, depth, table) för att göra dem mer begripliga i visualiseringar som cirkeldiagram. Det krävde förståelse för hur man använder pd.qcut() och hur man tolkar resultaten utan att förlora precision.\n",
    "Jag hanterade dessa utmaningar genom att:\n",
    "- Arbeta iterativt med visualiseringarna för att testa vilka som bäst kommunicerade mönster.\n",
    "- Skriva mycket förklarande text i notebooken för att förankra mina val i analysens syfte.\n",
    "- Läsa dokumentation och testa olika inställningar i pandas och Matplotlib för att förbättra tydligheten i presentationen."
   ]
  }
 ],
 "metadata": {
  "kernelspec": {
   "display_name": "Python",
   "language": "python",
   "name": "python3"
  },
  "language_info": {
   "codemirror_mode": {
    "name": "ipython",
    "version": 3
   },
   "file_extension": ".py",
   "mimetype": "text/x-python",
   "name": "python",
   "nbconvert_exporter": "python",
   "pygments_lexer": "ipython3",
   "version": "3.12.9"
  }
 },
 "nbformat": 4,
 "nbformat_minor": 5
}
